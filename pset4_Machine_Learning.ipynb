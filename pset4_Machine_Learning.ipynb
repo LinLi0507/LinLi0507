{
 "cells": [
  {
   "cell_type": "markdown",
   "metadata": {},
   "source": [
    "# Problem set 4, Spring 2022: Starter/hints"
   ]
  },
  {
   "cell_type": "code",
   "execution_count": 1,
   "metadata": {},
   "outputs": [],
   "source": [
    "# General helpers\n",
    "import numpy as np\n",
    "%matplotlib inline\n",
    "import matplotlib as mpl\n",
    "import matplotlib.pyplot as plt\n",
    "\n",
    "# Models\n",
    "from sklearn.linear_model import LogisticRegression\n",
    "from sklearn.neighbors import KNeighborsClassifier\n",
    "\n",
    "# Cross-validation helpers\n",
    "from sklearn.model_selection import cross_val_score\n",
    "from sklearn.model_selection import cross_validate\n",
    "from sklearn.model_selection import ShuffleSplit\n",
    "from sklearn.model_selection import train_test_split\n",
    "\n",
    "np.random.seed(42)"
   ]
  },
  {
   "cell_type": "markdown",
   "metadata": {},
   "source": [
    "# Data generator"
   ]
  },
  {
   "cell_type": "code",
   "execution_count": 2,
   "metadata": {},
   "outputs": [],
   "source": [
    "def genMortality(n,type=0):\n",
    "    # Generate COVID-19 deaths for different ages and comorbidity groups\n",
    "    # Baseline mortality rate\n",
    "    benchProb = 0.0005\n",
    "    # These are multiplyers from the base probability of death\n",
    "    # Note:  These numbers are real, and come from the US CDC\n",
    "    multiplyers = np.array([0.1,1./16.,1.,4.,10.,30.,90.,220.,630.])\n",
    "    # Age group means corresponding to the multipliers\n",
    "    ageMean     = np.array([2.,10.,25.,35.,45.,57.,70.,80.,95.])\n",
    "    # Probability of death for different age groups\n",
    "    ageGroupProbs = benchProb*multiplyers\n",
    "    # generate data\n",
    "    ageGroup = np.random.randint(low=0,high=9,size=n)\n",
    "    # This is totally made up by me\n",
    "    # These are the number of other medical conditions you might have\n",
    "    # Known as comorbities (assume 0 to 3)\n",
    "    comorb   = np.random.randint(low=0,high=4,size=n)\n",
    "    # Function to multiple death probs by for comorb\n",
    "    # totally made up by me\n",
    "    # Note:  We will change this line eventually\n",
    "    if(type==0):\n",
    "        comorbm  = 1.0*(comorb==0)+2.0*(comorb==1)+3.0*(comorb==2)+4.0*(comorb==3)\n",
    "    if(type==1):\n",
    "        comorbm  = 1.0*(comorb==0)+3.0*(comorb==1)+0.25*(comorb==2)+5.0*(comorb==3)\n",
    "    if(type>1):\n",
    "        return\n",
    "    # Xp is prob of death\n",
    "    Xp = comorbm*ageGroupProbs[ageGroup]\n",
    "    Xp = np.minimum(Xp,1.)\n",
    "    # Age vector\n",
    "    Xvec = ageMean[ageGroup]+np.random.uniform(low=-2.,high=2.,size=n)\n",
    "    # Target is 0 alive, 1 dead\n",
    "    y = (np.random.uniform(low=0.,high=1.,size=n)<Xp)\n",
    "    # Set predictors to age, and comorbidity\n",
    "    X = np.zeros( (n,2))\n",
    "    X[:,0] = Xvec\n",
    "    X[:,1] = comorb\n",
    "    # also return the ageGroup for ease of use\n",
    "    return X,y,ageGroup"
   ]
  },
  {
   "cell_type": "code",
   "execution_count": 3,
   "metadata": {},
   "outputs": [],
   "source": [
    "# Generate data\n",
    "# Extra lines enable reducing the data to certain (older) age groups\n",
    "Xraw,yraw, ageGroup = genMortality(100000,type=0)\n",
    "X = Xraw.copy()\n",
    "y = yraw.copy()\n",
    "# These might be useful to have around\n",
    "ageMean     = np.array([2.,10.,25.,35.,45.,57.,70.,80.,95.])\n",
    "benchProb = 0.0005\n",
    "multiplyers = np.array([0.1,1./16.,1.,4.,10.,30.,90.,220.,630.])\n",
    "# Factor of 2,5 comes from type 0 comorbidity adjustment\n",
    "#  mean(1,2,3,4)\n",
    "pTrue = 2.5*benchProb*multiplyers"
   ]
  },
  {
   "cell_type": "code",
   "execution_count": 4,
   "metadata": {},
   "outputs": [
    {
     "data": {
      "text/plain": [
       "Text(0, 0.5, 'Prob(death)')"
      ]
     },
     "execution_count": 4,
     "metadata": {},
     "output_type": "execute_result"
    },
    {
     "data": {
      "image/png": "[encoded data removed]",
      "text/plain": [
       "<Figure size 432x288 with 1 Axes>"
      ]
     },
     "metadata": {
      "needs_background": "light"
     },
     "output_type": "display_data"
    }
   ],
   "source": [
    "# Plot means for different age groups, both theoretical, and simulation\n",
    "# A good check of the monte-carlo sim\n",
    "prDeath = np.zeros(9)\n",
    "for i in range(9):\n",
    "    prDeath[i] = np.mean(y[ageGroup==i])   \n",
    "plt.plot(ageMean,pTrue)\n",
    "plt.plot(ageMean,prDeath)\n",
    "plt.grid()\n",
    "plt.xlabel(\"Age\")\n",
    "plt.ylabel(\"Prob(death)\")"
   ]
  },
  {
   "cell_type": "markdown",
   "metadata": {},
   "source": [
    "# Basic logistic model\n",
    "\n",
    "The model looks pretty good, but the last line shows that random guessing (0) would get you about 88 percent accuracy since this is a very unbalanced data set.  (That is a good thing since this is measuring deaths.)"
   ]
  },
  {
   "cell_type": "code",
   "execution_count": 5,
   "metadata": {},
   "outputs": [
    {
     "name": "stdout",
     "output_type": "stream",
     "text": [
      "0.9274512000000001\n",
      "0.0009041783894785452\n",
      "0.9272736\n",
      "0.0006943594458203871\n",
      "0.12982\n",
      "0.87018\n"
     ]
    }
   ],
   "source": [
    "# Run logistic model, and print out mean(y), \n",
    "#   and 1-mean(y)\n",
    "# Do randomized cross valiation and print results\n",
    "lr = LogisticRegression(penalty=\"none\",solver=\"lbfgs\")\n",
    "nmc = 25\n",
    "testSize = 0.5\n",
    "shuffle = ShuffleSplit(n_splits=nmc, test_size=testSize)\n",
    "CVInfo = cross_validate(lr, X, y, cv=shuffle,return_train_score=True)\n",
    "print(np.mean(CVInfo['train_score']))\n",
    "print(np.std(CVInfo['train_score']))\n",
    "print(np.mean(CVInfo['test_score']))\n",
    "print(np.std(CVInfo['test_score']))\n",
    "# Look at the fraction of deaths and 1-this fraction\n",
    "# What do these values tell you about the accuracy of a naive prediction?\n",
    "print(np.mean(y))\n",
    "print(1.-np.mean(y))\n",
    "#since logistic regression results the probability of y=1, dose mean(y) of 0.12 mean we predict that 12% of the \n",
    "#people died?"
   ]
  },
  {
   "cell_type": "code",
   "execution_count": null,
   "metadata": {},
   "outputs": [],
   "source": []
  },
  {
   "cell_type": "code",
   "execution_count": 8,
   "metadata": {},
   "outputs": [
    {
     "data": {
      "text/plain": [
       "Text(0, 0.5, 'Prob(death)')"
      ]
     },
     "execution_count": 8,
     "metadata": {},
     "output_type": "execute_result"
    },
    {
     "data": {
      "image/png": "[encoded data removed]",
      "text/plain": [
       "<Figure size 432x288 with 1 Axes>"
      ]
     },
     "metadata": {
      "needs_background": "light"
     },
     "output_type": "display_data"
    }
   ],
   "source": [
    "# This gives an example of how to do some of the plots\n",
    "#    from the problem set\n",
    "X_train, X_test, y_train, y_test = train_test_split(X,y,test_size=0.5)\n",
    "lr = LogisticRegression(penalty=\"none\",solver=\"lbfgs\")\n",
    "lr.fit(X_train,y_train)\n",
    "# set up plotting array with set of age means for x-axis\n",
    "ageMean     = np.array([2.,10.,25.,35.,45.,57.,70.,80.,95.])\n",
    "# Build a matrix of features for the graph\n",
    "Xplt = np.zeros((len(ageMean),2))\n",
    "Xplt[:,0] = ageMean\n",
    "# Column 2 will get comorbidities \n",
    "\n",
    "# Sweep across comorbidity\n",
    "for i in [0,1]:\n",
    "    # Load in the correct comorbidity value\n",
    "    Xplt[:,1] = i*np.ones(len(ageMean))\n",
    "    # Predict probability of (y=1) for (age,comorbidity) pairs\n",
    "    pp = lr.predict_proba(Xplt)\n",
    "    # plot probility across ages\n",
    "    plt.plot(ageMean,pp[:,1],label=i)\n",
    "plt.grid()\n",
    "plt.xlabel('Age')\n",
    "plt.ylabel('Prob(death)')\n",
    "\n",
    "# You should be able to do this for all 4 comorbidity levels\n",
    "# Also, set up a nice legend too\n"
   ]
  },
  {
   "cell_type": "code",
   "execution_count": 10,
   "metadata": {},
   "outputs": [
    {
     "name": "stdout",
     "output_type": "stream",
     "text": [
      "[[ 2.  1.]\n",
      " [10.  1.]\n",
      " [25.  1.]\n",
      " [35.  1.]\n",
      " [45.  1.]\n",
      " [57.  1.]\n",
      " [70.  1.]\n",
      " [80.  1.]\n",
      " [95.  1.]]\n",
      "[ 2. 10. 25. 35. 45. 57. 70. 80. 95.]\n"
     ]
    }
   ],
   "source": [
    "print(Xplt)\n",
    "print(Xplt[:,0])"
   ]
  },
  {
   "cell_type": "markdown",
   "metadata": {},
   "source": [
    "1.) The initial run of a logistic regression prints out some results for baseline data. \n",
    "What do the standard deviations tell you about the quality of your monte-carlo estimates of training and testing \n",
    "accuracy? Also, are these numbers impressive given the overall mean for y = 0?\n",
    "\n",
    "The basic model indicate that the train data has accuracy of approximate 0.927 and standard deviation of 0.0009,\n",
    "and test data has accuracy of approximate 0.927 with standard deviation of 0.0006, which implies we have generate a \n",
    "very good result and accuray with the model. The low standard indicate this naive model has generated a result with decent accuracy and low variation. However, this naive model dose not tell the best story and may contain bias given the imbalanced dataset since random guessing (0) would get me about 87 percent accuracy given the imbalanced feature of our data."
   ]
  },
  {
   "cell_type": "markdown",
   "metadata": {},
   "source": [
    "2.) Generate a single 50/50 train/test split.  Estimate the same model on the training data.  For the test data set report:  a) the confusion matrix, b) precision, c) recall.  To do this you will need a predictor for y_test.  This is easy to get once you have done a lr.fit(X_train).  (Assume lr is your logistic regression object.)  After this you can get y_test_pred = lr.predict(X_test) to get predictors for your test data.  With this and y_test you should be ready to go to use the scikit-learn confusion matrix function.  "
   ]
  },
  {
   "cell_type": "code",
   "execution_count": 6,
   "metadata": {},
   "outputs": [
    {
     "name": "stdout",
     "output_type": "stream",
     "text": [
      "precision: 0.7535785468381954\n",
      "recall: 0.6429123512134797\n",
      "f1: 0.6938605271938605\n"
     ]
    }
   ],
   "source": [
    "from sklearn.metrics import confusion_matrix, classification_report\n",
    "from sklearn.metrics import precision_score, recall_score, f1_score\n",
    "\n",
    "\n",
    "X_train, X_test, y_train, y_test = train_test_split(X,y,test_size=0.5)\n",
    "lr = LogisticRegression(penalty=\"none\",solver=\"lbfgs\")\n",
    "lr.fit(X_train,y_train)\n",
    "y_pred = lr.predict (X_test)\n",
    "\n",
    "\n",
    "print(\"precision:\",precision_score(y_test, y_pred))\n",
    "\n",
    "print(\"recall:\",recall_score(y_test, y_pred))\n",
    "\n",
    "print(\"f1:\",f1_score(y_test, y_pred))"
   ]
  },
  {
   "cell_type": "markdown",
   "metadata": {},
   "source": [
    "3) Split your data into a single test/train split.  Now use the predict_proba() method to predict the probability of death for the different ages, and the comorbidities.  Generate a nice plot showing the probabilities plotted across ages (x-axis) and probabilities (y-axis), using a different line for each comorbidity.  I have put some extensive hints into the starter code for how to get started with this.  It shows how to plot one of these lines (comorbidity = 0 and 1).  From this is should be easy to do this for all of [0,1,2,3], and set up a nice legend and labels on the plot.  See the starter file for more info!"
   ]
  },
  {
   "cell_type": "code",
   "execution_count": 27,
   "metadata": {},
   "outputs": [
    {
     "data": {
      "text/plain": [
       "<matplotlib.legend.Legend at 0x1dfebc709a0>"
      ]
     },
     "execution_count": 27,
     "metadata": {},
     "output_type": "execute_result"
    },
    {
     "data": {
      "image/png": "[encoded data removed]",
      "text/plain": [
       "<Figure size 432x288 with 1 Axes>"
      ]
     },
     "metadata": {
      "needs_background": "light"
     },
     "output_type": "display_data"
    }
   ],
   "source": [
    "#single test/train split\n",
    "X_train, X_test, y_train, y_test = train_test_split(X,y,test_size=0.5)\n",
    "lr = LogisticRegression(penalty=\"none\",solver=\"lbfgs\")\n",
    "lr.fit(X_train,y_train)\n",
    "ageMean     = np.array([2.,10.,25.,35.,45.,57.,70.,80.,95.])\n",
    "# Build a matrix of features for the graph\n",
    "Xplt = np.zeros((len(ageMean),2))\n",
    "Xplt[:,0] = ageMean\n",
    "fig, ax = plt.subplots()\n",
    "for i in [0,1,2,3]:\n",
    "    Xplt[:,1]= i*np.ones(len(ageMean))\n",
    "    pp=lr.predict_proba(Xplt)\n",
    "    plt.plot(ageMean,pp[:,1],label=i)\n",
    "plt.grid()\n",
    "plt.xlabel('Age')\n",
    "plt.ylabel('Prob(death)')\n",
    "ax.legend(['comorbidity 0', 'comorbidity 1', 'comorbidity 2', 'comorbidity 3'])"
   ]
  },
  {
   "cell_type": "markdown",
   "metadata": {},
   "source": [
    "4) Now try a KNN classifier for classification.  Repeat the monte-carlo cross validation from the starter, and commented on in part (1) above, but you should now try 4 different values for the neighbors, 10, 25, 50, 100.  Report the mean test accuracy for each, and use this to decide on your best model.  How does the logistic compare with the best nearest neighbor model?  (25 monte-carlo runs, and test_sample = 0.5 for each of the 4 different neighbor values.)"
   ]
  },
  {
   "cell_type": "code",
   "execution_count": 36,
   "metadata": {},
   "outputs": [
    {
     "name": "stdout",
     "output_type": "stream",
     "text": [
      "Number of Neighbors: 10\n",
      "Mean Test Accuracy: 0.9423504\n",
      "Number of Neighbors: 25\n",
      "Mean Test Accuracy: 0.943848\n",
      "Number of Neighbors: 50\n",
      "Mean Test Accuracy: 0.9443136\n",
      "Number of Neighbors: 100\n",
      "Mean Test Accuracy: 0.9444104\n"
     ]
    }
   ],
   "source": [
    "from sklearn.neighbors import KNeighborsClassifier\n",
    "def knn(X,y):\n",
    "    for i in [10,25,50,100]:\n",
    "        knn = KNeighborsClassifier(n_neighbors=i)\n",
    "        nmc = 25\n",
    "        testSize = 0.5\n",
    "        shuffle = ShuffleSplit(n_splits=nmc, test_size=testSize)\n",
    "        CVInfo = cross_validate(knn, X, y, cv=shuffle,return_train_score=True)\n",
    "        print(\"Number of Neighbors:\", i)\n",
    "        print(\"Mean Test Accuracy:\", np.mean(CVInfo['test_score']))\n",
    "\n",
    "knn(X,y) "
   ]
  },
  {
   "cell_type": "markdown",
   "metadata": {},
   "source": [
    "5) Now change the structure of the data generator.  \n",
    "\n",
    "Xraw,yraw, ageGroup = genMortality(100000, type=1)\n",
    "\n",
    "X = Xraw.copy()\n",
    "\n",
    "y = yraw.copy()\n",
    "\n",
    "There is some kind of medical miracle here which means you are better off with 2 comorb for some strange reason. Rerun the logistic regression in the randomized cross validation as before, and report the mean test accuracy. "
   ]
  },
  {
   "cell_type": "code",
   "execution_count": 42,
   "metadata": {},
   "outputs": [
    {
     "name": "stdout",
     "output_type": "stream",
     "text": [
      "0.9114296000000001\n"
     ]
    }
   ],
   "source": [
    "Xraw,yraw, ageGroup = genMortality(100000, type=1)\n",
    "\n",
    "X = Xraw.copy()\n",
    "\n",
    "y = yraw.copy()\n",
    "lr = LogisticRegression(penalty=\"none\",solver=\"lbfgs\")\n",
    "nmc = 25\n",
    "testSize = 0.5\n",
    "shuffle = ShuffleSplit(n_splits=nmc, test_size=testSize)\n",
    "CVInfo = cross_validate(lr, X, y, cv=shuffle,return_train_score=True)\n",
    "print(np.mean(CVInfo['test_score']))"
   ]
  },
  {
   "cell_type": "markdown",
   "metadata": {},
   "source": [
    "6) Repeat the plot you did before with the probabilities, from part (3).  Is there anything a little strange about the plot?"
   ]
  },
  {
   "cell_type": "code",
   "execution_count": 35,
   "metadata": {},
   "outputs": [
    {
     "data": {
      "text/plain": [
       "<matplotlib.legend.Legend at 0x1dfebc4d760>"
      ]
     },
     "execution_count": 35,
     "metadata": {},
     "output_type": "execute_result"
    },
    {
     "data": {
      "image/png": "[encoded data removed]",
      "text/plain": [
       "<Figure size 432x288 with 1 Axes>"
      ]
     },
     "metadata": {
      "needs_background": "light"
     },
     "output_type": "display_data"
    }
   ],
   "source": [
    "Xraw,yraw, ageGroup = genMortality(100000, type=1)\n",
    "\n",
    "X = Xraw.copy()\n",
    "\n",
    "y = yraw.copy()\n",
    "X_train, X_test, y_train, y_test = train_test_split(X,y,test_size=0.5)\n",
    "lr = LogisticRegression(penalty=\"none\",solver=\"lbfgs\")\n",
    "lr.fit(X_train,y_train)\n",
    "ageMean     = np.array([2.,10.,25.,35.,45.,57.,70.,80.,95.])\n",
    "# Build a matrix of features for the graph\n",
    "Xplt = np.zeros((len(ageMean),2))\n",
    "Xplt[:,0] = ageMean\n",
    "fig, ax = plt.subplots()\n",
    "for i in [0,1,2,3]:\n",
    "    Xplt[:,1]= i*np.ones(len(ageMean))\n",
    "    pp=lr.predict_proba(Xplt)\n",
    "    plt.plot(ageMean,pp[:,1],label=i)\n",
    "plt.grid()\n",
    "plt.xlabel('Age')\n",
    "plt.ylabel('Prob(death)')\n",
    "ax.legend(['comorbidity 0', 'comorbidity 1', 'comorbidity 2', 'comorbidity 3'])"
   ]
  },
  {
   "cell_type": "markdown",
   "metadata": {},
   "source": [
    "For all the comorbidity from 0 to 3, the proability of death is decreased after the age of 40 compared with the case of using type=0"
   ]
  },
  {
   "cell_type": "markdown",
   "metadata": {},
   "source": [
    "7) Now repeat your work with the KNN classifier from part (4) on this new data set.  Report the best model, and the mean test accuracy for this model.  How is it doing now in relation to the logistic model?"
   ]
  },
  {
   "cell_type": "code",
   "execution_count": 43,
   "metadata": {},
   "outputs": [
    {
     "name": "stdout",
     "output_type": "stream",
     "text": [
      "10\n",
      "0.94304\n",
      "25\n",
      "0.94436\n",
      "50\n",
      "0.94474\n",
      "100\n",
      "0.94552\n"
     ]
    }
   ],
   "source": [
    "Xraw,yraw, ageGroup = genMortality(100000,type=1)\n",
    "X = Xraw.copy()\n",
    "y = yraw.copy()\n",
    "\n",
    "X_train, X_test, y_train, y_test = train_test_split(X,y,test_size=0.5)\n",
    "# Set up a classifier\n",
    "for i in [10,25,50,100]:\n",
    "    knn = KNeighborsClassifier(n_neighbors=i)\n",
    "    knn.fit(X_train,y_train)\n",
    "    print(i)\n",
    "   \n",
    "    print(knn.score(X_test, y_test))\n",
    " "
   ]
  },
  {
   "cell_type": "markdown",
   "metadata": {},
   "source": [
    "The best model is the one with 100 neighbors. The test accuracy for the logistic model is 0.911 which is samller than the accuracy score of 0.94552 for Knn model. Thus, knn model is doing a better job than logistic model in this case."
   ]
  },
  {
   "cell_type": "markdown",
   "metadata": {},
   "source": [
    "8) Repeat the probability plot for the KNN classifier. Do the lines make more sense than in (6)?"
   ]
  },
  {
   "cell_type": "code",
   "execution_count": 44,
   "metadata": {},
   "outputs": [
    {
     "data": {
      "text/plain": [
       "<matplotlib.legend.Legend at 0x1dfecf7fa00>"
      ]
     },
     "execution_count": 44,
     "metadata": {},
     "output_type": "execute_result"
    },
    {
     "data": {
      "image/png": "[encoded data removed]",
      "text/plain": [
       "<Figure size 432x288 with 1 Axes>"
      ]
     },
     "metadata": {
      "needs_background": "light"
     },
     "output_type": "display_data"
    }
   ],
   "source": [
    "Xraw,yraw, ageGroup = genMortality(100000, type=1)\n",
    "\n",
    "X = Xraw.copy()\n",
    "\n",
    "y = yraw.copy()\n",
    "X_train, X_test, y_train, y_test = train_test_split(X,y,test_size=0.5)\n",
    "knn = KNeighborsClassifier(n_neighbors=i)\n",
    "knn.fit(X_train,y_train)\n",
    "ageMean     = np.array([2.,10.,25.,35.,45.,57.,70.,80.,95.])\n",
    "# Build a matrix of features for the graph\n",
    "Xplt = np.zeros((len(ageMean),2))\n",
    "Xplt[:,0] = ageMean\n",
    "fig, ax = plt.subplots()\n",
    "for i in [0,1,2,3]:\n",
    "    Xplt[:,1]= i*np.ones(len(ageMean))\n",
    "    pp=knn.predict_proba(Xplt)\n",
    "    plt.plot(ageMean,pp[:,1],label=i)\n",
    "plt.grid()\n",
    "plt.xlabel('Age')\n",
    "plt.ylabel('Prob(death)')\n",
    "ax.legend(['comorbidity 0', 'comorbidity 1', 'comorbidity 2', 'comorbidity 3'])"
   ]
  },
  {
   "cell_type": "markdown",
   "metadata": {},
   "source": [
    "The line makes more sense than the plot in the logistic regression case. Now,people with 3 comorbidities have much higher probaility of death than people with less than 3 comorbidities and the gap is even large when compared the age group older than 80, which is more close to the real-world case as older people with comorbidities are more susceptible to COVID."
   ]
  },
  {
   "cell_type": "markdown",
   "metadata": {},
   "source": [
    "9) Take this data set you've been using since part (5), and limit this to ages that are in the index range (ageGroup) 8 and above.  Report the mean(y) and 1-mean(y).  Run randomized cross validations for the logistic regression, and the knn (optimal neighbors from 7).  Report means scores on train and test samples.  Do the models look different?  How do they compare with the full sample of ages?  Can you give some idea what might be going on?  Here is some Python code for how to set this up:  (note:  I used copy to make sure I was creating a new clean memory space, just to be careful)"
   ]
  },
  {
   "cell_type": "code",
   "execution_count": 45,
   "metadata": {},
   "outputs": [
    {
     "name": "stdout",
     "output_type": "stream",
     "text": [
      "(100000, 2)\n",
      "mean(y) 0.5890686408920573\n",
      "1-mean(y) 0.41093135910794265\n",
      "\n"
     ]
    }
   ],
   "source": [
    "Xraw,yraw, ageGroup = genMortality(100000, type=1)\n",
    "\n",
    "print(Xraw.shape)\n",
    "\n",
    "X = Xraw[ageGroup>=8,:].copy()\n",
    "\n",
    "y = yraw[ageGroup>=8].copy()\n",
    "# Report the mean(y) and 1-mean(y)\n",
    "print('mean(y)',np.mean(y))\n",
    "print('1-mean(y)',1.-np.mean(y))\n",
    "print()\n"
   ]
  },
  {
   "cell_type": "code",
   "execution_count": 50,
   "metadata": {},
   "outputs": [
    {
     "name": "stdout",
     "output_type": "stream",
     "text": [
      "0.6726581352833638\n",
      "0.6720087735331749\n"
     ]
    }
   ],
   "source": [
    "#logistic\n",
    "lr = LogisticRegression(penalty=\"none\",solver=\"lbfgs\")\n",
    "shuffle = ShuffleSplit(n_splits=25, test_size=0.5)\n",
    "CVInfo = cross_validate(lr, X, y, cv=shuffle,return_train_score=True)\n",
    "    # record train accuracy\n",
    "print(np.mean(CVInfo['train_score']))\n",
    "    # record test accuracy\n",
    "print(np.mean(CVInfo['test_score']))\n"
   ]
  },
  {
   "cell_type": "code",
   "execution_count": 53,
   "metadata": {},
   "outputs": [
    {
     "name": "stdout",
     "output_type": "stream",
     "text": [
      "knn_train 0.8865374771480803\n",
      "knn_test 0.8871577408152075\n"
     ]
    }
   ],
   "source": [
    "#knn\n",
    "lr = KNeighborsClassifier(n_neighbors=100)\n",
    "shuffle = ShuffleSplit(n_splits=25, test_size=0.5)\n",
    "CVInfo = cross_validate(lr, X, y, cv=shuffle,return_train_score=True)\n",
    "print('knn_train',np.mean(CVInfo['train_score']))\n",
    "print('knn_test',np.mean(CVInfo['test_score']))"
   ]
  },
  {
   "cell_type": "markdown",
   "metadata": {},
   "source": [
    "The mean(y) for full sample is 0.12982 and 1-mean(y)is 0.87018.\n",
    "The mean(y) for sample of ages that are in the index range (ageGroup) 8 and above is  0.589 and 1-mean(y)is 0.4109. \n",
    "In both the cases of train accuracy and test accuracy, knn model score higher than logistic model.\n",
    "The test score of knn model with full sample size is 0.94552 and the test score of logistic model with full sample size is 0.9114, which are all higher than the test score generated with sample of ages that are in the index range (ageGroup) 8 and above.\n",
    "One resean that knn model transends the logistic model is that knn model support non-linear solution where logistic model support only linear solution. Thus, such limitation of the logistic model makes the logistic model to not fit the real world data as better as the knn model dose given the imbanlanced feature of some data."
   ]
  },
  {
   "cell_type": "code",
   "execution_count": null,
   "metadata": {},
   "outputs": [],
   "source": []
  }
 ],
 "metadata": {
  "kernelspec": {
   "display_name": "Python 3 (ipykernel)",
   "language": "python",
   "name": "python3"
  },
  "language_info": {
   "codemirror_mode": {
    "name": "ipython",
    "version": 3
   },
   "file_extension": ".py",
   "mimetype": "text/x-python",
   "name": "python",
   "nbconvert_exporter": "python",
   "pygments_lexer": "ipython3",
   "version": "3.8.8"
  }
 },
 "nbformat": 4,
 "nbformat_minor": 4
}
