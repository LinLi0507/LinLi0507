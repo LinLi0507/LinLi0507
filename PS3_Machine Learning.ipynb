{
 "cells": [
  {
   "cell_type": "code",
   "execution_count": 28,
   "metadata": {},
   "outputs": [],
   "source": [
    "from sklearn.model_selection import train_test_split\n",
    "from sklearn.linear_model import LinearRegression\n",
    "import numpy as np\n",
    "from sklearn.preprocessing import PolynomialFeatures"
   ]
  },
  {
   "cell_type": "code",
   "execution_count": 29,
   "metadata": {},
   "outputs": [],
   "source": [
    "#np.random.seed(42)\n",
    "m=20\n",
    "n=1\n",
    "\n",
    "x=np.random.normal(size=(m,n),loc=0,scale=1)\n",
    "eps=np.random.normal(size=(m,1),loc=0,scale=1)"
   ]
  },
  {
   "cell_type": "code",
   "execution_count": 30,
   "metadata": {},
   "outputs": [
    {
     "name": "stdout",
     "output_type": "stream",
     "text": [
      "(20, 2)\n"
     ]
    }
   ],
   "source": [
    "#quadratic\n",
    "qua=PolynomialFeatures(degree=2,include_bias=False)\n",
    "Xqua=qua.fit_transform(x)\n",
    "y=x+x**2+eps\n",
    "print(Xqua.shape)"
   ]
  },
  {
   "cell_type": "code",
   "execution_count": 31,
   "metadata": {},
   "outputs": [
    {
     "data": {
      "text/plain": [
       "LinearRegression()"
      ]
     },
     "execution_count": 31,
     "metadata": {},
     "output_type": "execute_result"
    }
   ],
   "source": [
    "lr = LinearRegression(fit_intercept=True)\n",
    "lr.fit(Xqua,y)\n"
   ]
  },
  {
   "cell_type": "code",
   "execution_count": 32,
   "metadata": {},
   "outputs": [
    {
     "name": "stdout",
     "output_type": "stream",
     "text": [
      "(20, 1)\n"
     ]
    }
   ],
   "source": [
    "#linear\n",
    "x_linear=np.random.normal(size=(m,n),loc=0,scale=1)\n",
    "eps_linear=np.random.normal(size=(m,1),loc=0,scale=1)\n",
    "y_linear=x_linear+eps_linear\n",
    "print(x_linear.shape)"
   ]
  },
  {
   "cell_type": "code",
   "execution_count": 33,
   "metadata": {},
   "outputs": [
    {
     "name": "stdout",
     "output_type": "stream",
     "text": [
      "[-0.09811409] [[1.05986609]]\n",
      "0.5091883741208321\n"
     ]
    }
   ],
   "source": [
    "#fit the random numbers to the linear model\n",
    "lr_linear=LinearRegression(fit_intercept=True)\n",
    "lr_linear.fit(x_linear,y_linear)\n",
    "print(lr_linear.intercept_,lr_linear.coef_)\n",
    "print(lr_linear.score(x_linear,y_linear))"
   ]
  },
  {
   "cell_type": "code",
   "execution_count": 34,
   "metadata": {},
   "outputs": [],
   "source": [
    "x_linear_train,x_linear_test,y_linear_train,y_linear_test=train_test_split(x_linear,y_linear,test_size=0.5)"
   ]
  },
  {
   "cell_type": "code",
   "execution_count": 35,
   "metadata": {},
   "outputs": [
    {
     "data": {
      "text/plain": [
       "LinearRegression()"
      ]
     },
     "execution_count": 35,
     "metadata": {},
     "output_type": "execute_result"
    }
   ],
   "source": [
    "lr_linear.fit(x_linear_train,y_linear_train)\n",
    "#generate predictors for both training and test data\n",
    "#yhaL_train=lr_linear.predict(x_linear_train)\n",
    "#yharL_test=lr_linear.predict(x_linear_test)"
   ]
  },
  {
   "cell_type": "code",
   "execution_count": 36,
   "metadata": {},
   "outputs": [
    {
     "name": "stdout",
     "output_type": "stream",
     "text": [
      "Train/test R-square:/n\n",
      "0.67777021556645\n",
      "-0.08805368793390089\n"
     ]
    }
   ],
   "source": [
    "# get r-square with score method\n",
    "print(\"Train/test R-square:/n\")\n",
    "print(lr_linear.score(x_linear_train,y_linear_train))\n",
    "print(lr_linear.score(x_linear_test,y_linear_test))"
   ]
  },
  {
   "cell_type": "code",
   "execution_count": 37,
   "metadata": {},
   "outputs": [],
   "source": [
    "#polynomial\n",
    "m=20\n",
    "n=1\n",
    "x=np.random.normal(size=(m,n),loc=0,scale=1)\n",
    "eps=np.random.normal(size=(m,1),loc=0,scale=1)\n",
    "poly=PolynomialFeatures(degree=5, include_bias=False)\n",
    "Xpoly=poly.fit_transform(x)\n",
    "#lr.fit(Xpoly,y)\n",
    "#print(Xploy.shape)"
   ]
  },
  {
   "cell_type": "code",
   "execution_count": 38,
   "metadata": {},
   "outputs": [
    {
     "data": {
      "text/plain": [
       "LinearRegression()"
      ]
     },
     "execution_count": 38,
     "metadata": {},
     "output_type": "execute_result"
    }
   ],
   "source": [
    "#fit regression\n",
    "lr.fit(Xpoly,y)"
   ]
  },
  {
   "cell_type": "code",
   "execution_count": 42,
   "metadata": {},
   "outputs": [
    {
     "name": "stdout",
     "output_type": "stream",
     "text": [
      "0.8045285415045609\n",
      "-10.199643608215307\n"
     ]
    }
   ],
   "source": [
    "Xpoly_train, Xpoly_test, y_train, y_test = train_test_split(Xpoly,y,test_size=0.5)\n",
    "lr.fit(Xpoly_train,y_train)\n",
    "print(lr.score(Xpoly_train,y_train))\n",
    "print(lr.score(Xpoly_test,y_test))"
   ]
  },
  {
   "cell_type": "code",
   "execution_count": null,
   "metadata": {},
   "outputs": [],
   "source": []
  },
  {
   "cell_type": "code",
   "execution_count": null,
   "metadata": {},
   "outputs": [],
   "source": []
  }
 ],
 "metadata": {
  "kernelspec": {
   "display_name": "Python 3",
   "language": "python",
   "name": "python3"
  },
  "language_info": {
   "codemirror_mode": {
    "name": "ipython",
    "version": 3
   },
   "file_extension": ".py",
   "mimetype": "text/x-python",
   "name": "python",
   "nbconvert_exporter": "python",
   "pygments_lexer": "ipython3",
   "version": "3.8.8"
  }
 },
 "nbformat": 4,
 "nbformat_minor": 4
}
