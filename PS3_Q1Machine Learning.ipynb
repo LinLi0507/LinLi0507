{
 "cells": [
  {
   "cell_type": "code",
   "execution_count": 2,
   "metadata": {},
   "outputs": [],
   "source": [
    "from sklearn.model_selection import train_test_split\n",
    "from sklearn.linear_model import LinearRegression\n",
    "import numpy as np\n",
    "from sklearn.preprocessing import PolynomialFeatures\n",
    "import matplotlib as mpl\n",
    "import matplotlib.pyplot as plt"
   ]
  },
  {
   "cell_type": "code",
   "execution_count": 3,
   "metadata": {},
   "outputs": [],
   "source": [
    "np.random.seed(42)\n",
    "m=20\n",
    "n=1\n",
    "\n",
    "x=np.random.normal(size=(m,n),loc=0,scale=1)\n",
    "eps=np.random.normal(size=(m,1),loc=0,scale=1)\n",
    "y=x+x**2+eps\n",
    "x_train, x_test, y_train, y_test = train_test_split(x, y, test_size=0.5)\n"
   ]
  },
  {
   "cell_type": "code",
   "execution_count": 9,
   "metadata": {},
   "outputs": [
    {
     "name": "stdout",
     "output_type": "stream",
     "text": [
      "For quadratic model, the R-squared on train set is: 0.6048484011731523\n",
      "For quadratic model, the R-squared on test set is: 0.3210110927570844\n"
     ]
    }
   ],
   "source": [
    "#quadratic\n",
    "lr = LinearRegression(fit_intercept=True)\n",
    "quad=PolynomialFeatures(degree=2,include_bias=False)\n",
    "x_train_quad = quad.fit_transform(x_train)\n",
    "x_test_quad = quad.fit_transform(x_test)\n",
    "lr.fit(x_train_quad, y_train)\n",
    "print('For quadratic model, the R-squared on train set is:',lr.score(x_train_quad,y_train))\n",
    "print('For quadratic model, the R-squared on test set is:',lr.score(x_test_quad,y_test))"
   ]
  },
  {
   "cell_type": "code",
   "execution_count": 11,
   "metadata": {},
   "outputs": [
    {
     "name": "stdout",
     "output_type": "stream",
     "text": [
      "For 5 degree polynomial model, the R-squared on train set is: 0.682819473089366\n",
      "For 5 degree polynomial model, the R-squared on test set is: -7.014203728927937\n"
     ]
    }
   ],
   "source": [
    "#polynomial\n",
    "poly=PolynomialFeatures(degree=5, include_bias=False)\n",
    "x_train_poly = poly.fit_transform(x_train)\n",
    "x_test_poly = poly.fit_transform(x_test)\n",
    "lr.fit(x_train_poly, y_train)\n",
    "print('For 5 degree polynomial model, the R-squared on train set is:',lr.score(x_train_poly,y_train))\n",
    "print('For 5 degree polynomial model, the R-squared on test set is:',lr.score(x_test_poly,y_test))\n"
   ]
  },
  {
   "cell_type": "code",
   "execution_count": null,
   "metadata": {},
   "outputs": [],
   "source": []
  }
 ],
 "metadata": {
  "kernelspec": {
   "display_name": "Python 3 (ipykernel)",
   "language": "python",
   "name": "python3"
  },
  "language_info": {
   "codemirror_mode": {
    "name": "ipython",
    "version": 3
   },
   "file_extension": ".py",
   "mimetype": "text/x-python",
   "name": "python",
   "nbconvert_exporter": "python",
   "pygments_lexer": "ipython3",
   "version": "3.8.8"
  }
 },
 "nbformat": 4,
 "nbformat_minor": 4
}
