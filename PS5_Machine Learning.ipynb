{
 "cells": [
  {
   "cell_type": "markdown",
   "id": "b2ae5c86",
   "metadata": {},
   "source": [
    "# Problem set 4: Spring 2022, solutions\n",
    "### Mushroom data"
   ]
  },
  {
   "cell_type": "markdown",
   "id": "140de48a",
   "metadata": {},
   "source": [
    "# Quick description\n",
    "\n",
    "As you may know, mushrooms in the wild can be either tasty or poisonous.  This classification data set is based on some measurements from wild mushrooms and uses supervised learning to predict mushroom types.  It compares two basic early methods, logistic, and knn classification, and looks at ROC curves for each."
   ]
  },
  {
   "cell_type": "code",
   "execution_count": 1,
   "id": "c8c451b5",
   "metadata": {},
   "outputs": [],
   "source": [
    "import pandas as pd\n",
    "import numpy as np\n",
    "import matplotlib.pyplot as plt\n",
    "\n",
    "# Core scikit learn cross validation tools also\n",
    "from sklearn.model_selection import cross_val_score\n",
    "from sklearn.model_selection import cross_validate\n",
    "from sklearn.model_selection import ShuffleSplit"
   ]
  },
  {
   "cell_type": "markdown",
   "id": "fd5c6730",
   "metadata": {},
   "source": [
    "## 0. Describe dataset\n",
    "\n",
    "This first section loads and preprocesses the dataset for you, and presents some descriptive statistics."
   ]
  },
  {
   "cell_type": "code",
   "execution_count": 2,
   "id": "be718bb1",
   "metadata": {
    "scrolled": false
   },
   "outputs": [
    {
     "name": "stdout",
     "output_type": "stream",
     "text": [
      "(8124, 23)\n"
     ]
    }
   ],
   "source": [
    "# data from Kaggle: https://www.kaggle.com/uciml/mushroom-classification\n",
    "mushroom = pd.read_csv(\"mushrooms.csv\")\n",
    "mushroom.head()\n",
    "print(mushroom.shape)"
   ]
  },
  {
   "cell_type": "markdown",
   "id": "f51717af",
   "metadata": {},
   "source": [
    "### 0.1 Data features"
   ]
  },
  {
   "cell_type": "markdown",
   "id": "a2109fbc",
   "metadata": {},
   "source": [
    "Attribute Information: (classes: edible=e, poisonous=p)\n",
    "\n",
    "cap-shape: bell=b,conical=c,convex=x,flat=f, knobbed=k,sunken=s\n",
    "\n",
    "cap-surface: fibrous=f,grooves=g,scaly=y,smooth=s\n",
    "\n",
    "cap-color: brown=n,buff=b,cinnamon=c,gray=g,green=r,pink=p,purple=u,red=e,white=w,yellow=y\n",
    "\n",
    "bruises: bruises=t,no=f\n",
    "\n",
    "odor: almond=a,anise=l,creosote=c,fishy=y,foul=f,musty=m,none=n,pungent=p,spicy=s\n",
    "\n",
    "gill-attachment: attached=a,descending=d,free=f,notched=n\n",
    "\n",
    "gill-spacing: close=c,crowded=w,distant=d\n",
    "\n",
    "gill-size: broad=b,narrow=n\n",
    "\n",
    "gill-color: black=k,brown=n,buff=b,chocolate=h,gray=g,green=r,orange=o,pink=p,purple=u,red=e,white=w,yellow=y\n",
    "\n",
    "stalk-shape: enlarging=e,tapering=t\n",
    "\n",
    "stalk-root: bulbous=b,club=c,cup=u,equal=e,rhizomorphs=z,rooted=r,missing=?\n",
    "\n",
    "stalk-surface-above-ring: fibrous=f,scaly=y,silky=k,smooth=s\n",
    "\n",
    "stalk-surface-below-ring: fibrous=f,scaly=y,silky=k,smooth=s\n",
    "\n",
    "stalk-color-above-ring: brown=n,buff=b,cinnamon=c,gray=g,orange=o,pink=p,red=e,white=w,yellow=y\n",
    "\n",
    "stalk-color-below-ring: brown=n,buff=b,cinnamon=c,gray=g,orange=o,pink=p,red=e,white=w,yellow=y\n",
    "\n",
    "veil-type: partial=p,universal=u\n",
    "\n",
    "veil-color: brown=n,orange=o,white=w,yellow=y\n",
    "\n",
    "ring-number: none=n,one=o,two=t\n",
    "\n",
    "ring-type: cobwebby=c,evanescent=e,flaring=f,large=l,none=n,pendant=p,sheathing=s,zone=z\n",
    "\n",
    "spore-print-color: black=k,brown=n,buff=b,chocolate=h,green=r,orange=o,purple=u,white=w,yellow=y\n",
    "\n",
    "population: abundant=a,clustered=c,numerous=n,scattered=s,several=v,solitary=y\n",
    "\n",
    "habitat: grasses=g,leaves=l,meadows=m,paths=p,urban=u,waste=w,woods=d"
   ]
  },
  {
   "cell_type": "markdown",
   "id": "096d2306",
   "metadata": {},
   "source": [
    "### 0.2 Data CleaningLChecking null values"
   ]
  },
  {
   "cell_type": "code",
   "execution_count": 3,
   "id": "bab36707",
   "metadata": {},
   "outputs": [
    {
     "data": {
      "text/plain": [
       "class                       0\n",
       "cap-shape                   0\n",
       "cap-surface                 0\n",
       "cap-color                   0\n",
       "bruises                     0\n",
       "odor                        0\n",
       "gill-attachment             0\n",
       "gill-spacing                0\n",
       "gill-size                   0\n",
       "gill-color                  0\n",
       "stalk-shape                 0\n",
       "stalk-root                  0\n",
       "stalk-surface-above-ring    0\n",
       "stalk-surface-below-ring    0\n",
       "stalk-color-above-ring      0\n",
       "stalk-color-below-ring      0\n",
       "veil-type                   0\n",
       "veil-color                  0\n",
       "ring-number                 0\n",
       "ring-type                   0\n",
       "spore-print-color           0\n",
       "population                  0\n",
       "habitat                     0\n",
       "dtype: int64"
      ]
     },
     "execution_count": 3,
     "metadata": {},
     "output_type": "execute_result"
    }
   ],
   "source": [
    "mushroom.isnull().sum()"
   ]
  },
  {
   "cell_type": "markdown",
   "id": "ec34773c",
   "metadata": {},
   "source": [
    "There's no null values in the dataset, and the dataset are in a good quality."
   ]
  },
  {
   "cell_type": "markdown",
   "id": "57e62e99",
   "metadata": {},
   "source": [
    "### 0.3 Exploratory Analysis"
   ]
  },
  {
   "cell_type": "code",
   "execution_count": 4,
   "id": "3e63ab61",
   "metadata": {},
   "outputs": [
    {
     "data": {
      "text/plain": [
       "(8124, 23)"
      ]
     },
     "execution_count": 4,
     "metadata": {},
     "output_type": "execute_result"
    }
   ],
   "source": [
    "mushroom.shape"
   ]
  },
  {
   "cell_type": "code",
   "execution_count": 5,
   "id": "ad2cdcb7",
   "metadata": {},
   "outputs": [
    {
     "data": {
      "text/html": [
       "<div>\n",
       "<style scoped>\n",
       "    .dataframe tbody tr th:only-of-type {\n",
       "        vertical-align: middle;\n",
       "    }\n",
       "\n",
       "    .dataframe tbody tr th {\n",
       "        vertical-align: top;\n",
       "    }\n",
       "\n",
       "    .dataframe thead th {\n",
       "        text-align: right;\n",
       "    }\n",
       "</style>\n",
       "<table border=\"1\" class=\"dataframe\">\n",
       "  <thead>\n",
       "    <tr style=\"text-align: right;\">\n",
       "      <th></th>\n",
       "      <th>class</th>\n",
       "      <th>cap-shape</th>\n",
       "      <th>cap-surface</th>\n",
       "      <th>cap-color</th>\n",
       "      <th>bruises</th>\n",
       "      <th>odor</th>\n",
       "      <th>gill-attachment</th>\n",
       "      <th>gill-spacing</th>\n",
       "      <th>gill-size</th>\n",
       "      <th>gill-color</th>\n",
       "      <th>...</th>\n",
       "      <th>stalk-surface-below-ring</th>\n",
       "      <th>stalk-color-above-ring</th>\n",
       "      <th>stalk-color-below-ring</th>\n",
       "      <th>veil-type</th>\n",
       "      <th>veil-color</th>\n",
       "      <th>ring-number</th>\n",
       "      <th>ring-type</th>\n",
       "      <th>spore-print-color</th>\n",
       "      <th>population</th>\n",
       "      <th>habitat</th>\n",
       "    </tr>\n",
       "  </thead>\n",
       "  <tbody>\n",
       "    <tr>\n",
       "      <th>0</th>\n",
       "      <td>p</td>\n",
       "      <td>x</td>\n",
       "      <td>s</td>\n",
       "      <td>n</td>\n",
       "      <td>t</td>\n",
       "      <td>p</td>\n",
       "      <td>f</td>\n",
       "      <td>c</td>\n",
       "      <td>n</td>\n",
       "      <td>k</td>\n",
       "      <td>...</td>\n",
       "      <td>s</td>\n",
       "      <td>w</td>\n",
       "      <td>w</td>\n",
       "      <td>p</td>\n",
       "      <td>w</td>\n",
       "      <td>o</td>\n",
       "      <td>p</td>\n",
       "      <td>k</td>\n",
       "      <td>s</td>\n",
       "      <td>u</td>\n",
       "    </tr>\n",
       "    <tr>\n",
       "      <th>1</th>\n",
       "      <td>e</td>\n",
       "      <td>x</td>\n",
       "      <td>s</td>\n",
       "      <td>y</td>\n",
       "      <td>t</td>\n",
       "      <td>a</td>\n",
       "      <td>f</td>\n",
       "      <td>c</td>\n",
       "      <td>b</td>\n",
       "      <td>k</td>\n",
       "      <td>...</td>\n",
       "      <td>s</td>\n",
       "      <td>w</td>\n",
       "      <td>w</td>\n",
       "      <td>p</td>\n",
       "      <td>w</td>\n",
       "      <td>o</td>\n",
       "      <td>p</td>\n",
       "      <td>n</td>\n",
       "      <td>n</td>\n",
       "      <td>g</td>\n",
       "    </tr>\n",
       "    <tr>\n",
       "      <th>2</th>\n",
       "      <td>e</td>\n",
       "      <td>b</td>\n",
       "      <td>s</td>\n",
       "      <td>w</td>\n",
       "      <td>t</td>\n",
       "      <td>l</td>\n",
       "      <td>f</td>\n",
       "      <td>c</td>\n",
       "      <td>b</td>\n",
       "      <td>n</td>\n",
       "      <td>...</td>\n",
       "      <td>s</td>\n",
       "      <td>w</td>\n",
       "      <td>w</td>\n",
       "      <td>p</td>\n",
       "      <td>w</td>\n",
       "      <td>o</td>\n",
       "      <td>p</td>\n",
       "      <td>n</td>\n",
       "      <td>n</td>\n",
       "      <td>m</td>\n",
       "    </tr>\n",
       "    <tr>\n",
       "      <th>3</th>\n",
       "      <td>p</td>\n",
       "      <td>x</td>\n",
       "      <td>y</td>\n",
       "      <td>w</td>\n",
       "      <td>t</td>\n",
       "      <td>p</td>\n",
       "      <td>f</td>\n",
       "      <td>c</td>\n",
       "      <td>n</td>\n",
       "      <td>n</td>\n",
       "      <td>...</td>\n",
       "      <td>s</td>\n",
       "      <td>w</td>\n",
       "      <td>w</td>\n",
       "      <td>p</td>\n",
       "      <td>w</td>\n",
       "      <td>o</td>\n",
       "      <td>p</td>\n",
       "      <td>k</td>\n",
       "      <td>s</td>\n",
       "      <td>u</td>\n",
       "    </tr>\n",
       "    <tr>\n",
       "      <th>4</th>\n",
       "      <td>e</td>\n",
       "      <td>x</td>\n",
       "      <td>s</td>\n",
       "      <td>g</td>\n",
       "      <td>f</td>\n",
       "      <td>n</td>\n",
       "      <td>f</td>\n",
       "      <td>w</td>\n",
       "      <td>b</td>\n",
       "      <td>k</td>\n",
       "      <td>...</td>\n",
       "      <td>s</td>\n",
       "      <td>w</td>\n",
       "      <td>w</td>\n",
       "      <td>p</td>\n",
       "      <td>w</td>\n",
       "      <td>o</td>\n",
       "      <td>e</td>\n",
       "      <td>n</td>\n",
       "      <td>a</td>\n",
       "      <td>g</td>\n",
       "    </tr>\n",
       "  </tbody>\n",
       "</table>\n",
       "<p>5 rows × 23 columns</p>\n",
       "</div>"
      ],
      "text/plain": [
       "  class cap-shape cap-surface cap-color bruises odor gill-attachment  \\\n",
       "0     p         x           s         n       t    p               f   \n",
       "1     e         x           s         y       t    a               f   \n",
       "2     e         b           s         w       t    l               f   \n",
       "3     p         x           y         w       t    p               f   \n",
       "4     e         x           s         g       f    n               f   \n",
       "\n",
       "  gill-spacing gill-size gill-color  ... stalk-surface-below-ring  \\\n",
       "0            c         n          k  ...                        s   \n",
       "1            c         b          k  ...                        s   \n",
       "2            c         b          n  ...                        s   \n",
       "3            c         n          n  ...                        s   \n",
       "4            w         b          k  ...                        s   \n",
       "\n",
       "  stalk-color-above-ring stalk-color-below-ring veil-type veil-color  \\\n",
       "0                      w                      w         p          w   \n",
       "1                      w                      w         p          w   \n",
       "2                      w                      w         p          w   \n",
       "3                      w                      w         p          w   \n",
       "4                      w                      w         p          w   \n",
       "\n",
       "  ring-number ring-type spore-print-color population habitat  \n",
       "0           o         p                 k          s       u  \n",
       "1           o         p                 n          n       g  \n",
       "2           o         p                 n          n       m  \n",
       "3           o         p                 k          s       u  \n",
       "4           o         e                 n          a       g  \n",
       "\n",
       "[5 rows x 23 columns]"
      ]
     },
     "execution_count": 5,
     "metadata": {},
     "output_type": "execute_result"
    }
   ],
   "source": [
    "mushroom.head()"
   ]
  },
  {
   "cell_type": "code",
   "execution_count": 6,
   "id": "f484af26",
   "metadata": {},
   "outputs": [
    {
     "data": {
      "text/html": [
       "<div>\n",
       "<style scoped>\n",
       "    .dataframe tbody tr th:only-of-type {\n",
       "        vertical-align: middle;\n",
       "    }\n",
       "\n",
       "    .dataframe tbody tr th {\n",
       "        vertical-align: top;\n",
       "    }\n",
       "\n",
       "    .dataframe thead th {\n",
       "        text-align: right;\n",
       "    }\n",
       "</style>\n",
       "<table border=\"1\" class=\"dataframe\">\n",
       "  <thead>\n",
       "    <tr style=\"text-align: right;\">\n",
       "      <th></th>\n",
       "      <th>class</th>\n",
       "      <th>cap-shape</th>\n",
       "      <th>cap-surface</th>\n",
       "      <th>cap-color</th>\n",
       "      <th>bruises</th>\n",
       "      <th>odor</th>\n",
       "      <th>gill-attachment</th>\n",
       "      <th>gill-spacing</th>\n",
       "      <th>gill-size</th>\n",
       "      <th>gill-color</th>\n",
       "      <th>...</th>\n",
       "      <th>stalk-surface-below-ring</th>\n",
       "      <th>stalk-color-above-ring</th>\n",
       "      <th>stalk-color-below-ring</th>\n",
       "      <th>veil-type</th>\n",
       "      <th>veil-color</th>\n",
       "      <th>ring-number</th>\n",
       "      <th>ring-type</th>\n",
       "      <th>spore-print-color</th>\n",
       "      <th>population</th>\n",
       "      <th>habitat</th>\n",
       "    </tr>\n",
       "  </thead>\n",
       "  <tbody>\n",
       "    <tr>\n",
       "      <th>count</th>\n",
       "      <td>8124</td>\n",
       "      <td>8124</td>\n",
       "      <td>8124</td>\n",
       "      <td>8124</td>\n",
       "      <td>8124</td>\n",
       "      <td>8124</td>\n",
       "      <td>8124</td>\n",
       "      <td>8124</td>\n",
       "      <td>8124</td>\n",
       "      <td>8124</td>\n",
       "      <td>...</td>\n",
       "      <td>8124</td>\n",
       "      <td>8124</td>\n",
       "      <td>8124</td>\n",
       "      <td>8124</td>\n",
       "      <td>8124</td>\n",
       "      <td>8124</td>\n",
       "      <td>8124</td>\n",
       "      <td>8124</td>\n",
       "      <td>8124</td>\n",
       "      <td>8124</td>\n",
       "    </tr>\n",
       "    <tr>\n",
       "      <th>unique</th>\n",
       "      <td>2</td>\n",
       "      <td>6</td>\n",
       "      <td>4</td>\n",
       "      <td>10</td>\n",
       "      <td>2</td>\n",
       "      <td>9</td>\n",
       "      <td>2</td>\n",
       "      <td>2</td>\n",
       "      <td>2</td>\n",
       "      <td>12</td>\n",
       "      <td>...</td>\n",
       "      <td>4</td>\n",
       "      <td>9</td>\n",
       "      <td>9</td>\n",
       "      <td>1</td>\n",
       "      <td>4</td>\n",
       "      <td>3</td>\n",
       "      <td>5</td>\n",
       "      <td>9</td>\n",
       "      <td>6</td>\n",
       "      <td>7</td>\n",
       "    </tr>\n",
       "    <tr>\n",
       "      <th>top</th>\n",
       "      <td>e</td>\n",
       "      <td>x</td>\n",
       "      <td>y</td>\n",
       "      <td>n</td>\n",
       "      <td>f</td>\n",
       "      <td>n</td>\n",
       "      <td>f</td>\n",
       "      <td>c</td>\n",
       "      <td>b</td>\n",
       "      <td>b</td>\n",
       "      <td>...</td>\n",
       "      <td>s</td>\n",
       "      <td>w</td>\n",
       "      <td>w</td>\n",
       "      <td>p</td>\n",
       "      <td>w</td>\n",
       "      <td>o</td>\n",
       "      <td>p</td>\n",
       "      <td>w</td>\n",
       "      <td>v</td>\n",
       "      <td>d</td>\n",
       "    </tr>\n",
       "    <tr>\n",
       "      <th>freq</th>\n",
       "      <td>4208</td>\n",
       "      <td>3656</td>\n",
       "      <td>3244</td>\n",
       "      <td>2284</td>\n",
       "      <td>4748</td>\n",
       "      <td>3528</td>\n",
       "      <td>7914</td>\n",
       "      <td>6812</td>\n",
       "      <td>5612</td>\n",
       "      <td>1728</td>\n",
       "      <td>...</td>\n",
       "      <td>4936</td>\n",
       "      <td>4464</td>\n",
       "      <td>4384</td>\n",
       "      <td>8124</td>\n",
       "      <td>7924</td>\n",
       "      <td>7488</td>\n",
       "      <td>3968</td>\n",
       "      <td>2388</td>\n",
       "      <td>4040</td>\n",
       "      <td>3148</td>\n",
       "    </tr>\n",
       "  </tbody>\n",
       "</table>\n",
       "<p>4 rows × 23 columns</p>\n",
       "</div>"
      ],
      "text/plain": [
       "       class cap-shape cap-surface cap-color bruises  odor gill-attachment  \\\n",
       "count   8124      8124        8124      8124    8124  8124            8124   \n",
       "unique     2         6           4        10       2     9               2   \n",
       "top        e         x           y         n       f     n               f   \n",
       "freq    4208      3656        3244      2284    4748  3528            7914   \n",
       "\n",
       "       gill-spacing gill-size gill-color  ... stalk-surface-below-ring  \\\n",
       "count          8124      8124       8124  ...                     8124   \n",
       "unique            2         2         12  ...                        4   \n",
       "top               c         b          b  ...                        s   \n",
       "freq           6812      5612       1728  ...                     4936   \n",
       "\n",
       "       stalk-color-above-ring stalk-color-below-ring veil-type veil-color  \\\n",
       "count                    8124                   8124      8124       8124   \n",
       "unique                      9                      9         1          4   \n",
       "top                         w                      w         p          w   \n",
       "freq                     4464                   4384      8124       7924   \n",
       "\n",
       "       ring-number ring-type spore-print-color population habitat  \n",
       "count         8124      8124              8124       8124    8124  \n",
       "unique           3         5                 9          6       7  \n",
       "top              o         p                 w          v       d  \n",
       "freq          7488      3968              2388       4040    3148  \n",
       "\n",
       "[4 rows x 23 columns]"
      ]
     },
     "execution_count": 6,
     "metadata": {},
     "output_type": "execute_result"
    }
   ],
   "source": [
    "mushroom.describe()"
   ]
  },
  {
   "cell_type": "markdown",
   "id": "d93f423f",
   "metadata": {},
   "source": [
    "## 0.4 Data Processing"
   ]
  },
  {
   "cell_type": "markdown",
   "id": "ecebeb25",
   "metadata": {},
   "source": [
    "### 0.4.1 separating X and y"
   ]
  },
  {
   "cell_type": "code",
   "execution_count": 7,
   "id": "7e42a389",
   "metadata": {},
   "outputs": [
    {
     "name": "stdout",
     "output_type": "stream",
     "text": [
      "(8124, 5)\n",
      "(8124,)\n"
     ]
    }
   ],
   "source": [
    "# Set predictors and targets\n",
    "# eliminate a bunch of features to make the problem harder,\n",
    "#   and a little faster too\n",
    "X = mushroom.iloc[:,1:6].copy()\n",
    "y = mushroom.iloc[:,0].copy()\n",
    "print(X.shape)\n",
    "print(y.shape)"
   ]
  },
  {
   "cell_type": "code",
   "execution_count": 8,
   "id": "1ab17383",
   "metadata": {},
   "outputs": [
    {
     "name": "stdout",
     "output_type": "stream",
     "text": [
      "0       p\n",
      "1       e\n",
      "2       e\n",
      "3       p\n",
      "4       e\n",
      "       ..\n",
      "8119    e\n",
      "8120    e\n",
      "8121    e\n",
      "8122    p\n",
      "8123    e\n",
      "Name: class, Length: 8124, dtype: object\n",
      "     cap-shape cap-surface cap-color bruises odor\n",
      "0            x           s         n       t    p\n",
      "1            x           s         y       t    a\n",
      "2            b           s         w       t    l\n",
      "3            x           y         w       t    p\n",
      "4            x           s         g       f    n\n",
      "...        ...         ...       ...     ...  ...\n",
      "8119         k           s         n       f    n\n",
      "8120         x           s         n       f    n\n",
      "8121         f           s         n       f    n\n",
      "8122         k           y         n       f    y\n",
      "8123         x           s         n       f    n\n",
      "\n",
      "[8124 rows x 5 columns]\n"
     ]
    }
   ],
   "source": [
    "print(y)\n",
    "print(X)\n",
    "#y=class\n",
    "#X= cap-shape cap-surface cap-color bruises odor"
   ]
  },
  {
   "cell_type": "markdown",
   "id": "c7715051",
   "metadata": {},
   "source": [
    "### 0.4.2 Label Encoding\n",
    "* Map charcter labels to numbers for Scikit-learn"
   ]
  },
  {
   "cell_type": "code",
   "execution_count": 9,
   "id": "777f4d26",
   "metadata": {},
   "outputs": [
    {
     "name": "stdout",
     "output_type": "stream",
     "text": [
      "   cap-shape  cap-surface  cap-color  bruises  odor\n",
      "0          5            2          4        1     6\n",
      "1          5            2          9        1     0\n",
      "2          0            2          8        1     3\n",
      "3          5            3          8        1     6\n",
      "4          5            2          3        0     5\n"
     ]
    }
   ],
   "source": [
    "\n",
    "from sklearn.preprocessing import LabelEncoder\n",
    "#LabelEncoder can be used to normalize labels. It can also be used to transform non-numerical labels\n",
    "#(as long as they are hashable and comparable) to numerical labels\n",
    "le = LabelEncoder() \n",
    "for col in X.columns:\n",
    "    X[col] = le.fit_transform(X[col])\n",
    "Encoder_y=LabelEncoder()\n",
    "y = Encoder_y.fit_transform(y)\n",
    "# y = 1 poisonous, 0 edible\n",
    "\n",
    "print(X.head())\n",
    "\n",
    "\n"
   ]
  },
  {
   "cell_type": "code",
   "execution_count": 10,
   "id": "7c1415c8",
   "metadata": {},
   "outputs": [
    {
     "name": "stdout",
     "output_type": "stream",
     "text": [
      "   cap-shape  cap-surface  cap-color   bruises      odor\n",
      "0   1.146071     0.118122  -0.594338  1.001749  0.714280\n",
      "1   1.411195     0.114890   1.798978  1.317544 -2.032213\n",
      "2  -1.756948     0.067161   1.391430  1.097258 -0.223437\n",
      "3   1.286931     0.663525   1.133602  1.140439  1.254547\n",
      "4   0.906288    -0.056087  -0.929766 -1.158209  0.726780\n",
      "Fraction poisonous: 0.48202855736090594\n"
     ]
    }
   ],
   "source": [
    "# Standardized features (needed for knn)\n",
    "Xmean = X.mean(axis=0)\n",
    "Xstd  = X.std(axis=0)\n",
    "X = (X-Xmean)/Xstd+np.random.normal(size=(X.shape[0],X.shape[1]),scale=0.25)\n",
    "#X.shape[0] refers to rows numbers of X\n",
    "#X.shape[1] refers to columns numbers of X\n",
    "print(X.head())\n",
    "print(\"Fraction poisonous:\",y.mean())"
   ]
  },
  {
   "cell_type": "markdown",
   "id": "5dcf0f9b",
   "metadata": {},
   "source": [
    "## 0.5 Python hint for part 8\n",
    "\n",
    "Problem 8 involves a small bit of Python trickiness, which it will be helpful if I just show you.  Let's say you are given a vector x which has numbers sorted highest to lowest.  You want to find the smallest entry in x such that x>threshold. \n",
    "\n",
    "There may be some other better ways to do this.  If you know of any feel free to tell me about them."
   ]
  },
  {
   "cell_type": "code",
   "execution_count": 11,
   "id": "d3140afe",
   "metadata": {},
   "outputs": [
    {
     "name": "stdout",
     "output_type": "stream",
     "text": [
      "[9 8 7 6 5 4 3 2 1]\n",
      "[0 1 2 3 4]\n",
      "4 5\n"
     ]
    }
   ],
   "source": [
    "# set x to 9 to 1\n",
    "# Find index to smallest entry in x > 4.0\n",
    "x = np.arange(start=9, stop = 0, step = -1)\n",
    "print(x)\n",
    "\n",
    "# where is a function that will do this for you\n",
    "# Unfortunately it returns a strange tupple object so you need to \n",
    "# pull out the vector with the [0] subscript\n",
    "selectGT4 = np.where(x>4.)[0]\n",
    "print(selectGT4)\n",
    "\n",
    "# Now index for smallest x greater than 4.0\n",
    "\n",
    "j = selectGT4[-1] # last entry in set > 4\n",
    "\n",
    "print(j,x[j])"
   ]
  },
  {
   "cell_type": "markdown",
   "id": "6386c1b9",
   "metadata": {},
   "source": [
    "# Problem set 5"
   ]
  },
  {
   "cell_type": "markdown",
   "id": "aaa3db0e",
   "metadata": {},
   "source": [
    "## 1. Logistic Regression and its accuracy\n",
    "\n",
    "Set up a logistic regression, do a single train_test_split with test_size = 0.25.  Logistic regression should be run with penalty=\"none\" and solver=\"lbfgs\". Set random_state = 20, and the train_test_split().  Note: This means that you could compare your results to your fellow students.  (why?)\n",
    "\n",
    "print the train score and test score, and the mean for the target (y)."
   ]
  },
  {
   "cell_type": "code",
   "execution_count": 12,
   "id": "917344f2",
   "metadata": {},
   "outputs": [
    {
     "name": "stdout",
     "output_type": "stream",
     "text": [
      "The train score of logistic model is: 0.7679304119481372\n",
      "The test score of logistic model is: 0.758739537173806\n",
      "The mean of y is: 0.48202855736090594\n",
      "Mean of train score is 0.4817003118332513\n"
     ]
    }
   ],
   "source": [
    "from sklearn.model_selection import train_test_split\n",
    "from sklearn.linear_model import LogisticRegression\n",
    "X_train, X_test, y_train, y_test = train_test_split(X,y,test_size=0.25)\n",
    "lr = LogisticRegression(penalty=\"none\",solver=\"lbfgs\", random_state = 20)\n",
    "#Setting random_state a fixed value will guarantee that same sequence of random numbers are generated each time\n",
    "#you run the code.\n",
    "lr.fit(X_train,y_train)\n",
    "print('The train score of logistic model is:',lr.score(X_train,y_train))\n",
    "print('The test score of logistic model is:',lr.score(X_test, y_test))\n",
    "print('The mean of y is:',np.mean(y))\n",
    "print('Mean of train score is',y_train.mean())"
   ]
  },
  {
   "cell_type": "markdown",
   "id": "6373445a",
   "metadata": {},
   "source": [
    "## 2. Our more standard randomized cross-validation (25 runs, testsize = 0.25)\n",
    "\n",
    "Do a standard monte-carlo run with a randomized cross validation using cross_validate(), and the logistic regression from the last part."
   ]
  },
  {
   "cell_type": "code",
   "execution_count": 13,
   "id": "a3c27fdc",
   "metadata": {},
   "outputs": [
    {
     "name": "stdout",
     "output_type": "stream",
     "text": [
      "0.7666962087641555\n",
      "0.7619300837026097\n"
     ]
    }
   ],
   "source": [
    "from sklearn.model_selection import ShuffleSplit\n",
    "nmc=25 \n",
    "lr = LogisticRegression(penalty=\"none\",solver=\"lbfgs\", random_state = 20)\n",
    "lr.fit(X_train,y_train)\n",
    "shuffle = ShuffleSplit(n_splits=nmc, test_size=.25)\n",
    "CVInfo = cross_validate(lr, X, y, cv=shuffle,return_train_score=True)\n",
    "\n",
    "     \n",
    "    # record train accuracy\n",
    "print(np.mean(CVInfo['train_score']))\n",
    "    # record test accuracy\n",
    "print(np.mean(CVInfo['test_score']))\n"
   ]
  },
  {
   "cell_type": "markdown",
   "id": "77b0d79c",
   "metadata": {},
   "source": [
    "## 3. Confusion matrix\n",
    "\n",
    "For the train_test_split from problem 1, reestimate logistic on the training data, and find the confusion matrix, accuracy, precision, and recall, on the test data."
   ]
  },
  {
   "cell_type": "code",
   "execution_count": 32,
   "id": "cc2e5ec4",
   "metadata": {},
   "outputs": [
    {
     "name": "stdout",
     "output_type": "stream",
     "text": [
      "confusion matrix [[827 234]\n",
      " [233 737]]\n",
      "Accuracy 827.3628754308222\n",
      "precision 0.7590113285272915\n",
      "recall 0.7597938144329897\n"
     ]
    }
   ],
   "source": [
    "from sklearn.metrics import confusion_matrix\n",
    "from sklearn.metrics import precision_score, recall_score, f1_score\n",
    "X_train, X_test, y_train, y_test = train_test_split(X,y,test_size=0.25)\n",
    "lr = LogisticRegression(penalty=\"none\",solver=\"lbfgs\", random_state = 20)\n",
    "lr.fit(X_train,y_train)\n",
    "yhat = lr.predict(X_test)\n",
    "cmat=confusion_matrix(y_test,yhat)\n",
    "tn, fp, fn, tp = cmat.ravel()\n",
    "precision = tp/(tp+fp)\n",
    "recall = tp/(tp+fn)\n",
    "Accuracy=tn+tp/(tn+fp+fn+tp)\n",
    "print('confusion matrix',cmat)\n",
    "print('Accuracy',Accuracy)\n",
    "print('precision',precision)\n",
    "print('recall',recall)"
   ]
  },
  {
   "cell_type": "markdown",
   "id": "1420d479",
   "metadata": {},
   "source": [
    "## 4. Threshold sweep\n",
    "\n",
    "Using a logistic model fit on the training data, find the probabilities for y = 1 from the test data, and then do a sweep of thresholds from 0 0.95 using\n",
    "np.arange(0.0,1.00,0.05)\n",
    "\n",
    "For each threshold level find the predicted y value, and using this find the confusion matrix, and from this get precision, recall, and false positives.  Store those in lists along with the threshold values.\n",
    "\n",
    "Plot the three values, precision, recall, and false positives as a function of threshold.\n",
    "\n",
    "Note:  All I want here is a the plot.  No need to print any of those intermediate results."
   ]
  },
  {
   "cell_type": "code",
   "execution_count": 31,
   "id": "014c2fef",
   "metadata": {},
   "outputs": [
    {
     "data": {
      "text/plain": [
       "<matplotlib.legend.Legend at 0x1a96d20d220>"
      ]
     },
     "execution_count": 31,
     "metadata": {},
     "output_type": "execute_result"
    },
    {
     "data": {
      "image/png": "[encoded data removed]",
      "text/plain": [
       "<Figure size 432x288 with 1 Axes>"
      ]
     },
     "metadata": {
      "needs_background": "light"
     },
     "output_type": "display_data"
    }
   ],
   "source": [
    "from sklearn.metrics import roc_curve\n",
    "X_train, X_test, y_train, y_test = train_test_split(X,y,test_size=0.25)\n",
    "lr = LogisticRegression(penalty=\"none\",solver=\"lbfgs\", random_state = 20)\n",
    "lr.fit(X_train,y_train)\n",
    "\n",
    "y_prob = lr.predict_proba(X_test)[:,1]\n",
    "false_pos_rates=[]\n",
    "plist = []\n",
    "rlist = []\n",
    "thresholds=[]\n",
    "for threshold in np.arange(start=0.0,stop=1.00,step=0.05):\n",
    "    yhat = y_prob > threshold\n",
    "    cmat = confusion_matrix(y_test, yhat)\n",
    "    tn, fp, fn, tp = cmat.ravel()\n",
    "    precision = tp/(tp+fp)\n",
    "    recall = tp/(tp+fn)\n",
    "    rate=fp/(tn+fp)\n",
    "    plist.append(precision)\n",
    "    rlist.append(recall)\n",
    "    thresholds.append(threshold)\n",
    "    false_pos_rates.append(rate)\n",
    "\n",
    "plt.plot(thresholds,rlist,\"g-\", label=\"Recall\")\n",
    "plt.plot(thresholds,plist,\"b--\", label=\"Precision\")\n",
    "plt.plot(thresholds,false_pos_rates)\n",
    "\n",
    "plt.ylabel(\"Score_knn\")\n",
    "plt.xlabel(\"Thresholds_knn\")\n",
    "plt.legend(['Recall','Precision','False Positive Rates'])"
   ]
  },
  {
   "cell_type": "markdown",
   "id": "b2450f72",
   "metadata": {},
   "source": [
    "## 4 KNN Classifier and its accuracy\n",
    "\n",
    "Set up a knn classifier.  Try to find the optimal neighbors by sweeping from 1 to 40.   Store training and test accuracy for each neighbor (as we've done many times).  Finally plot the accuracy for both test and training as a function of the number of neighbors.  Store the optimal neighbors in a variables best_neighbors."
   ]
  },
  {
   "cell_type": "code",
   "execution_count": 27,
   "id": "dcb94f3a",
   "metadata": {},
   "outputs": [
    {
     "data": {
      "text/plain": [
       "<matplotlib.legend.Legend at 0x1a96bf67b20>"
      ]
     },
     "execution_count": 27,
     "metadata": {},
     "output_type": "execute_result"
    },
    {
     "data": {
      "image/png": "[encoded data removed]",
      "text/plain": [
       "<Figure size 432x288 with 1 Axes>"
      ]
     },
     "metadata": {
      "needs_background": "light"
     },
     "output_type": "display_data"
    }
   ],
   "source": [
    "from sklearn.neighbors import KNeighborsClassifier\n",
    "training_accuracy = []\n",
    "test_accuracy = []\n",
    "neighbors_settings = range(1, 41)\n",
    "shuffle = ShuffleSplit(n_splits=nmc, test_size=.25)\n",
    "\n",
    "for i in neighbors_settings:\n",
    "    knn = KNeighborsClassifier(n_neighbors=i)\n",
    "    \n",
    "\n",
    "    CVInfo = cross_validate(knn, X, y, cv=shuffle,return_train_score=True)\n",
    "     # record train accuracy\n",
    "    training_accuracy.append(np.mean(CVInfo['train_score']))\n",
    "    # record test accuracy\n",
    "    test_accuracy.append(np.mean(CVInfo['test_score']))\n",
    "            \n",
    "fig, ax = plt.subplots()\n",
    "ax.plot(neighbors_settings, training_accuracy, label=\"training accuracy\")\n",
    "ax.plot(neighbors_settings, test_accuracy, label=\"test accuracy\")\n",
    "ax.set_xlim(40, 0)\n",
    "ax.set_ylabel(\"Accuracy\")\n",
    "ax.set_xlabel(\"n_neighbors\")\n",
    "ax.grid()\n",
    "ax.legend()"
   ]
  },
  {
   "cell_type": "code",
   "execution_count": 28,
   "id": "048810c8",
   "metadata": {},
   "outputs": [
    {
     "name": "stdout",
     "output_type": "stream",
     "text": [
      "best_neighbors= 7\n",
      "[0.9571639586410634, 0.959645494830133, 0.9652781880846873, 0.9664007877892664, 0.9667159034958149, 0.967011324470704, 0.9685869030034466, 0.9684293451501723, 0.9672673559822746, 0.9675430822255047, 0.9667749876907927, 0.9662432299359921, 0.9681733136386016, 0.9663613983259477, 0.967424913835549, 0.9662038404726735, 0.9667355982274741, 0.9666962087641556, 0.9676612506154604, 0.9665583456425406, 0.9662826193993106, 0.9664795667159035, 0.9672673559822746, 0.9638207779419006, 0.9664401772525849, 0.9660068931560807, 0.9657508616445101, 0.9658493353028064, 0.9649630723781388, 0.9651797144263909, 0.9650812407680945, 0.9655342195962581, 0.9638207779419006, 0.9639389463318563, 0.9633677991137372, 0.9627572624322994, 0.9631708517971442, 0.9638010832102413, 0.961890694239291, 0.9619497784342687]\n"
     ]
    }
   ],
   "source": [
    "nbest = np.argmax(test_accuracy)\n",
    "best_neighbors = neighbors_settings[nbest]\n",
    "print(\"best_neighbors=\",best_neighbors)\n",
    "print(test_accuracy)\n"
   ]
  },
  {
   "cell_type": "markdown",
   "id": "b26aad4d",
   "metadata": {},
   "source": [
    "## 5 KNN classifier accuracy \n",
    "\n",
    "As a quick check run your \"best_neighbors\" classifer on the original train set from part 1, and report the score on the original train and test sets from part 1."
   ]
  },
  {
   "cell_type": "code",
   "execution_count": 18,
   "id": "11eeb0cd",
   "metadata": {},
   "outputs": [
    {
     "name": "stdout",
     "output_type": "stream",
     "text": [
      "0.9716067618578696\n",
      "0.9704579025110783\n"
     ]
    }
   ],
   "source": [
    "X_train, X_test, y_train, y_test = train_test_split(X,y,test_size=0.25)\n",
    "knn = KNeighborsClassifier(n_neighbors=best_neighbors)\n",
    "knn.fit(X_train,y_train)\n",
    "print(knn.score(X_train,y_train))\n",
    "print(knn.score(X_test, y_test))"
   ]
  },
  {
   "cell_type": "markdown",
   "id": "7ea761ee",
   "metadata": {},
   "source": [
    "## 6 Threshold sweep\n",
    "\n",
    "Repeat the theshold sweep from part 4, plotting precision, recall, and false positives for the knn classifier.  Trained on the training sample, and all values estimated on the test sample.  Plot the same plot from part 4 for knn.  How do the two plots compare?  Which method looks better?"
   ]
  },
  {
   "cell_type": "code",
   "execution_count": 30,
   "id": "9f4eee39",
   "metadata": {},
   "outputs": [
    {
     "data": {
      "text/plain": [
       "<matplotlib.legend.Legend at 0x1a96c097220>"
      ]
     },
     "execution_count": 30,
     "metadata": {},
     "output_type": "execute_result"
    },
    {
     "data": {
      "image/png": "[encoded data removed]",
      "text/plain": [
       "<Figure size 432x288 with 1 Axes>"
      ]
     },
     "metadata": {
      "needs_background": "light"
     },
     "output_type": "display_data"
    }
   ],
   "source": [
    "\n",
    "X_train, X_test, y_train, y_test = train_test_split(X,y,test_size=0.25)\n",
    "knn = KNeighborsClassifier(n_neighbors=best_neighbors)\n",
    "knn.fit(X_train,y_train)\n",
    "\n",
    "y_prob_knn = knn.predict_proba(X_test)[:,1]\n",
    "false_pos_rates_knn=[]\n",
    "plist_knn = []\n",
    "rlist_knn = []\n",
    "thresholds=[]\n",
    "for threshold in np.arange(start=0.0,stop=1.00,step=0.05):\n",
    "    yhat_knn = y_prob_knn > threshold\n",
    "    cmat_knn = confusion_matrix(y_test, yhat_knn)\n",
    "    tn_knn, fp_knn, fn_knn, tp_knn = cmat_knn.ravel()\n",
    "    precision_knn = tp_knn/(tp_knn+fp_knn)\n",
    "    recall_knn = tp_knn/(tp_knn+fn_knn)\n",
    "    rate_knn=fp_knn/(tn_knn+fp_knn)\n",
    "    plist_knn.append(precision_knn)\n",
    "    rlist_knn.append(recall_knn)\n",
    "    thresholds.append(threshold)\n",
    "    false_pos_rates_knn.append(rate_knn)\n",
    "plt.plot(thresholds,rlist_knn,\"g-\", label=\"Recall\")\n",
    "plt.plot(thresholds,plist_knn,\"b--\", label=\"Precision\")\n",
    "plt.plot(thresholds,false_pos_rates_knn)\n",
    "\n",
    "plt.ylabel(\"Score_knn\")\n",
    "plt.xlabel(\"Thresholds_knn\")\n",
    "plt.legend(['Recall_knn','Precision_knn','False Positive Rates_knn'])"
   ]
  },
  {
   "cell_type": "markdown",
   "id": "11755ac9",
   "metadata": {},
   "source": [
    "The knn model looks better as it has lower false positive rate, higher recall score, and higher precision score compared with the resulted plot of logistic model."
   ]
  },
  {
   "cell_type": "markdown",
   "id": "42571768",
   "metadata": {},
   "source": [
    "## 7 ROC curves and AUC\n",
    "\n",
    "Plot the ROC curves (on the same plot) for the logistic classifier, and the knn classifier.  Get the probabilities using predict_proba on the test sample from part 1.  Use the roc_curve() to get the curve, and plot the two together.\n",
    "Also, find the AUC (area under the curve) for both models.\n",
    "\n",
    "Is there a definite winner in the race between these models?  Why or why not?"
   ]
  },
  {
   "cell_type": "code",
   "execution_count": 20,
   "id": "dcff0f7f",
   "metadata": {},
   "outputs": [
    {
     "data": {
      "text/plain": [
       "Text(0, 0.5, 'True positive rate (recall)')"
      ]
     },
     "execution_count": 20,
     "metadata": {},
     "output_type": "execute_result"
    },
    {
     "data": {
      "image/png": "[encoded data removed]",
      "text/plain": [
       "<Figure size 432x288 with 1 Axes>"
      ]
     },
     "metadata": {
      "needs_background": "light"
     },
     "output_type": "display_data"
    }
   ],
   "source": [
    "from sklearn.metrics import roc_curve\n",
    "from sklearn.metrics import roc_auc_score\n",
    "X_train, X_test, y_train, y_test = train_test_split(X,y,test_size=0.25)\n",
    "lr = LogisticRegression(penalty=\"none\",solver=\"lbfgs\", random_state = 20)\n",
    "lr.fit(X_train,y_train)\n",
    "y_prob_lr = lr.predict_proba(X_test)[:,1]\n",
    "fpr_lr, tpr_lr, thresholds = roc_curve(y_test, y_prob_lr)\n",
    "plt.plot(fpr_lr,tpr_lr)\n",
    "plt.grid()\n",
    "plt.xlabel(\"False positive rate\")\n",
    "plt.ylabel(\"True positive rate (recall)\")\n"
   ]
  },
  {
   "cell_type": "code",
   "execution_count": 21,
   "id": "62b7cc29",
   "metadata": {},
   "outputs": [
    {
     "name": "stdout",
     "output_type": "stream",
     "text": [
      "AUC: 0.8307273593250323\n"
     ]
    }
   ],
   "source": [
    "from sklearn.metrics import roc_auc_score\n",
    "print(\"AUC:\",roc_auc_score(y_test, y_prob_lr))"
   ]
  },
  {
   "cell_type": "code",
   "execution_count": 22,
   "id": "d9bdeb6e",
   "metadata": {},
   "outputs": [
    {
     "data": {
      "text/plain": [
       "Text(0, 0.5, 'True positive rate (recall)')"
      ]
     },
     "execution_count": 22,
     "metadata": {},
     "output_type": "execute_result"
    },
    {
     "data": {
      "image/png": "[encoded data removed]",
      "text/plain": [
       "<Figure size 432x288 with 1 Axes>"
      ]
     },
     "metadata": {
      "needs_background": "light"
     },
     "output_type": "display_data"
    }
   ],
   "source": [
    "#knn\n",
    "X_train, X_test, y_train, y_test = train_test_split(X,y,test_size=0.25)\n",
    "knn = KNeighborsClassifier(n_neighbors=best_neighbors)\n",
    "knn.fit(X_train,y_train)\n",
    "y_prob_knn = knn.predict_proba(X_test)[:,1]\n",
    "fpr_knn, tpr_knn, thresholds = roc_curve(y_test, y_prob_knn)\n",
    "# fpr, tpr, thresholds = roc_curve(y,df)\n",
    "plt.plot(fpr_knn,tpr_knn)\n",
    "plt.grid()\n",
    "plt.xlabel(\"False positive rate\")\n",
    "plt.ylabel(\"True positive rate (recall)\")"
   ]
  },
  {
   "cell_type": "code",
   "execution_count": 23,
   "id": "8acf56fc",
   "metadata": {},
   "outputs": [
    {
     "name": "stdout",
     "output_type": "stream",
     "text": [
      "AUC: 0.9888351308508465\n"
     ]
    }
   ],
   "source": [
    "print(\"AUC:\",roc_auc_score(y_test, y_prob_knn))"
   ]
  },
  {
   "cell_type": "code",
   "execution_count": 24,
   "id": "638d130c",
   "metadata": {
    "scrolled": true
   },
   "outputs": [
    {
     "data": {
      "text/plain": [
       "Text(0, 0.5, 'True positive rate (recall)')"
      ]
     },
     "execution_count": 24,
     "metadata": {},
     "output_type": "execute_result"
    },
    {
     "data": {
      "image/png": "[encoded data removed]",
      "text/plain": [
       "<Figure size 432x288 with 1 Axes>"
      ]
     },
     "metadata": {
      "needs_background": "light"
     },
     "output_type": "display_data"
    }
   ],
   "source": [
    "#plot the ROC curve of knn and logistic model together\n",
    "fig, ax = plt.subplots()\n",
    "ax.plot(fpr_knn,tpr_knn)\n",
    "ax.plot(fpr_lr,tpr_lr)\n",
    "plt.grid()\n",
    "plt.xlabel(\"False positive rate\")\n",
    "plt.ylabel(\"True positive rate (recall)\")\n"
   ]
  },
  {
   "cell_type": "markdown",
   "id": "9817c8ca",
   "metadata": {},
   "source": [
    "The knn model definitely has better ROC curve compared with that of logistic model.\n",
    "The ROC curve has the shape that is close to the perfect test as it hangs along the y-axis vertically and closely hangs along the top of the x-axis horizontally.Also, the AUC score for knn model is almost to 100 which is larger than the AUC score of logistic model."
   ]
  },
  {
   "cell_type": "markdown",
   "id": "4911a958",
   "metadata": {},
   "source": [
    "## 8 Recall > 0.95 \n",
    "\n",
    "For this problem I want you to find the best recall/false positive combination for each model, for a recall level greater than 0.95.  In other words you have been asked to deliver on a model that generates a 0.95 recall or better, and you want the model that does this with the smallest possible false positive rate.  What are these two rates for the logistic and knn models?  (I don't need to know any details about thresholds for this problem.  You can just use your recall, false positive lists from your plots.)"
   ]
  },
  {
   "cell_type": "code",
   "execution_count": 25,
   "id": "2dc53440",
   "metadata": {},
   "outputs": [
    {
     "name": "stdout",
     "output_type": "stream",
     "text": [
      "[0.98901099 0.98901099 0.97902098 0.97902098 0.96903097 0.96903097\n",
      " 0.96103896 0.96103896 0.95304695 0.95304695 0.94105894 0.93606394\n",
      " 0.93606394 0.92707293 0.92707293 0.91308691 0.91308691 0.88811189\n",
      " 0.88811189 0.85414585]\n",
      "[0 1 2 3 4 5 6 7 8 9]\n",
      "recall level greater than 0.95 for knn model is 0.9530469530469531\n",
      "smallest false positive rate for knn model is 0.020388349514563107\n"
     ]
    }
   ],
   "source": [
    "recall_knn=np.array(rlist_knn)\n",
    "print(recall_knn)\n",
    "selectGT4 = np.where(recall_knn>0.95)[0]\n",
    "print(selectGT4)\n",
    "false_positive_rates_knn=np.array(false_pos_rates_knn)\n",
    "j = selectGT4[-1]\n",
    "print('recall level greater than 0.95 for knn model is',recall_knn[j])\n",
    "print('smallest false positive rate for knn model is', false_pos_rates_knn[j])\n",
    "# Now index for smallest x greater than 4.0\n",
    "\n",
    "# last entry in set > 4"
   ]
  },
  {
   "cell_type": "code",
   "execution_count": 26,
   "id": "749c187c",
   "metadata": {},
   "outputs": [
    {
     "name": "stdout",
     "output_type": "stream",
     "text": [
      "recall level greater than 0.95 for logistic model is 0.954864593781344\n",
      "smallest false positive rate for logistic model is 0.7504835589941973\n"
     ]
    }
   ],
   "source": [
    "recall=np.array(rlist)\n",
    "selectGT4 = np.where(recall>0.95)[0]\n",
    "false_positive_rates=np.array(false_pos_rates)\n",
    "lr = selectGT4[-1]\n",
    "print('recall level greater than 0.95 for logistic model is',recall[lr])\n",
    "print('smallest false positive rate for logistic model is', false_pos_rates[lr])"
   ]
  },
  {
   "cell_type": "code",
   "execution_count": null,
   "id": "ceed521c",
   "metadata": {},
   "outputs": [],
   "source": []
  }
 ],
 "metadata": {
  "kernelspec": {
   "display_name": "Python 3 (ipykernel)",
   "language": "python",
   "name": "python3"
  },
  "language_info": {
   "codemirror_mode": {
    "name": "ipython",
    "version": 3
   },
   "file_extension": ".py",
   "mimetype": "text/x-python",
   "name": "python",
   "nbconvert_exporter": "python",
   "pygments_lexer": "ipython3",
   "version": "3.8.8"
  }
 },
 "nbformat": 4,
 "nbformat_minor": 5
}
