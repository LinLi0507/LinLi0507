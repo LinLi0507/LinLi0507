{
 "cells": [
  {
   "cell_type": "markdown",
   "metadata": {},
   "source": [
    "# Problem set 3 starter notebook\n",
    "\n",
    "This notebook gets you started on problem 3."
   ]
  },
  {
   "cell_type": "code",
   "execution_count": 1,
   "metadata": {},
   "outputs": [],
   "source": [
    "# Load helpers\n",
    "# Will try to just load what I need on this\n",
    "\n",
    "%matplotlib inline\n",
    "import numpy as np\n",
    "import matplotlib as mpl\n",
    "import matplotlib.pyplot as plt\n",
    "from sklearn.model_selection import train_test_split\n",
    "from sklearn.linear_model import LinearRegression"
   ]
  },
  {
   "cell_type": "markdown",
   "metadata": {},
   "source": [
    "# Hints on R-squared for this function\n",
    "* y = x + e, E(x)=E(e)=0\n",
    "* E(y) is Naive forecast\n",
    "* Think about sse1 = m*E(y-E(y))^2, two parts x and e added together\n",
    "\n",
    "    * You should be able to find the variance of this\n",
    "* Forecast for y = x, or E(y|x) = x\n",
    "* sse2 = m*E(y-E(y|x))^2, now only one part to the error, e, what is the E(e^2)?\n",
    "* From these two parts you should be able to get the theoretical R-squared\n",
    "* It is also a nice comparison number for many of your computational results below"
   ]
  },
  {
   "cell_type": "code",
   "execution_count": 2,
   "metadata": {},
   "outputs": [],
   "source": [
    "# Function to generate linear data experiments\n",
    "def genLinData(M,N):\n",
    "    # y = x_0 + eps\n",
    "    # Other X values are noise\n",
    "    X = np.random.normal(size=(M,N),loc=0,scale=1.)\n",
    "    eps = np.random.normal(size=M,loc=0,scale=1.)\n",
    "    # Y only depends on X[,0]\n",
    "    y = X[:,0]+eps\n",
    "    return X,y"
   ]
  },
  {
   "cell_type": "code",
   "execution_count": 4,
   "metadata": {},
   "outputs": [
    {
     "name": "stdout",
     "output_type": "stream",
     "text": [
      "0.519633808537473\n"
     ]
    }
   ],
   "source": [
    "# Generate some data and estimate a linear model as you would have done in econometrics class\n",
    "X, y = genLinData(50, 1)\n",
    "# Now run regression\n",
    "# print score, which is R-squared (fit)\n",
    "lr = LinearRegression()\n",
    "lr.fit(X, y)\n",
    "print(lr.score(X,y))\n"
   ]
  },
  {
   "cell_type": "code",
   "execution_count": 5,
   "metadata": {},
   "outputs": [
    {
     "name": "stdout",
     "output_type": "stream",
     "text": [
      "R-squared calculated with mathmatical function is: \n",
      " 0.519633808537473\n"
     ]
    }
   ],
   "source": [
    "# 1 find r-squared\n",
    "# R-squared function setup\n",
    "def rsquared(y,yhat,ycompare):\n",
    "    RSS=np.sum((y-yhat)**2)\n",
    "    yhatNaive=np.mean(ycompare)\n",
    "    naiveRSS=np.sum((y-yhatNaive)**2)\n",
    "    rs=1-RSS/naiveRSS\n",
    "    return rs\n",
    "\n",
    "yhat=lr.predict(X)\n",
    "rsq=rsquared(y,yhat,y)\n",
    "print('R-squared calculated with mathmatical function is: \\n',rsq)"
   ]
  },
  {
   "cell_type": "code",
   "execution_count": 8,
   "metadata": {},
   "outputs": [
    {
     "name": "stdout",
     "output_type": "stream",
     "text": [
      "0.6669199139194324\n"
     ]
    }
   ],
   "source": [
    "# Now increase the number of noise terms to 9 (10 total predictors)\n",
    "X, y = genLinData(50, 10)\n",
    "# Now run regression\n",
    "# print score, which is R-squared (fit)\n",
    "lr = LinearRegression()\n",
    "lr.fit(X, y)\n",
    "print(lr.score(X,y))\n"
   ]
  },
  {
   "cell_type": "code",
   "execution_count": null,
   "metadata": {},
   "outputs": [],
   "source": [
    "#2\n",
    "# It seems that increasing the noise terms from 1 to 9 increases the R score.\n",
    "# This is due to the resean that noisse destroy information and make data becomes harder to fit, thus harder to over-fit.\n"
   ]
  },
  {
   "cell_type": "code",
   "execution_count": 15,
   "metadata": {},
   "outputs": [],
   "source": [
    "#3"
   ]
  },
  {
   "cell_type": "code",
   "execution_count": 9,
   "metadata": {},
   "outputs": [
    {
     "name": "stdout",
     "output_type": "stream",
     "text": [
      "Mean of the score for n=1 is : 0.5039982705586928\n"
     ]
    }
   ],
   "source": [
    "result=[]\n",
    "\n",
    "for _ in range(1000):\n",
    "    X=np.random.normal(size=(50,1),loc=0,scale=1)\n",
    "    eps=np.random.normal(size=(50,1),loc=0,scale=1)\n",
    "    y=X+eps\n",
    "    lr=LinearRegression()\n",
    "    fit=lr.fit(X,y)\n",
    "    R=lr.score(X,y)\n",
    "    result.append(R)\n",
    "    \n",
    "print('Mean of the score for n=1 is :',np.mean(result))"
   ]
  },
  {
   "cell_type": "code",
   "execution_count": 16,
   "metadata": {},
   "outputs": [
    {
     "name": "stdout",
     "output_type": "stream",
     "text": [
      "Mean of the score for n=10 is : 0.5925064626259706\n"
     ]
    }
   ],
   "source": [
    "result2=[]\n",
    "for _ in range(1000):\n",
    "    X,y=genLinData(50, 10)\n",
    "    lr = LinearRegression()\n",
    "    lr.fit(X, y)\n",
    "    R=lr.score(X,y)\n",
    "    result2.append(R)\n",
    "print('Mean of the score for n=10 is :',np.mean(result2))"
   ]
  },
  {
   "cell_type": "code",
   "execution_count": null,
   "metadata": {},
   "outputs": [],
   "source": []
  },
  {
   "cell_type": "code",
   "execution_count": 11,
   "metadata": {},
   "outputs": [
    {
     "name": "stdout",
     "output_type": "stream",
     "text": [
      "[0.5004379758921907, 0.5082904599526711, 0.5139165888923489, 0.517107629976478, 0.5219930298751487, 0.526970866550782, 0.5316305855385646, 0.5369238555469348, 0.5429177856163361, 0.5473747025125547]\n"
     ]
    }
   ],
   "source": [
    "#4\n",
    "results=[]\n",
    "results1=[]\n",
    "for N in range(1,11):\n",
    "    for i in range(1000):\n",
    "       \n",
    "        X,y=genLinData(50,N)\n",
    "        lr=LinearRegression()\n",
    "        fit=lr.fit(X,y)\n",
    "        R=lr.score(X,y)\n",
    "        results.append(R)\n",
    "    results1.append(np.mean(results))\n",
    "print(results1)\n"
   ]
  },
  {
   "cell_type": "code",
   "execution_count": 21,
   "metadata": {},
   "outputs": [
    {
     "data": {
      "text/plain": [
       "[<matplotlib.lines.Line2D at 0x237076c19a0>]"
      ]
     },
     "execution_count": 21,
     "metadata": {},
     "output_type": "execute_result"
    },
    {
     "data": {
      "image/png": "[encoded data removed]",
      "text/plain": [
       "<Figure size 432x288 with 1 Axes>"
      ]
     },
     "metadata": {
      "needs_background": "light"
     },
     "output_type": "display_data"
    }
   ],
   "source": [
    "\n",
    "plt.plot(range(1,11),results1,\"o\")"
   ]
  },
  {
   "cell_type": "code",
   "execution_count": 22,
   "metadata": {},
   "outputs": [
    {
     "name": "stdout",
     "output_type": "stream",
     "text": [
      "0.644332801769544\n",
      "Mean of score for training set of n=1 is: 0.4968404517183663\n",
      "Mean of score for testing set of n=1 is: 0.45842003874256104\n"
     ]
    }
   ],
   "source": [
    "#5\n",
    "result3=[]\n",
    "result4=[]\n",
    "m=100\n",
    "n=1\n",
    "for _ in range(1000):\n",
    "    X,y=genLinData(100, 1)\n",
    "    lr=LinearRegression()\n",
    "    X_test,X_train,y_test,y_train=train_test_split(X,y,test_size=0.5)\n",
    "    lr.fit(X_train,y_train)\n",
    "    R_train=lr.score(X_train,y_train)\n",
    "    R_test=lr.score(X_test,y_test)\n",
    "    result3.append(R_train)\n",
    "    result4.append(R_test)\n",
    "print(R_train)\n",
    "print('Mean of score for training set of n=1 is:',np.mean(result3))\n",
    "print('Mean of score for testing set of n=1 is:',np.mean(result4))\n",
    "    \n",
    "    "
   ]
  },
  {
   "cell_type": "code",
   "execution_count": 26,
   "metadata": {},
   "outputs": [
    {
     "name": "stdout",
     "output_type": "stream",
     "text": [
      "Mean of score for training set of n=10 is: 0.591627585118667\n",
      "Mean of score for testing set of n=10 is: 0.3256890508369045\n"
     ]
    }
   ],
   "source": [
    "result5=[]\n",
    "result6=[]\n",
    "for _ in range(1000):\n",
    "    X,y=genLinData(100, 10)\n",
    "    lr=LinearRegression()\n",
    "    lr.fit(X,y)\n",
    "    X_test,X_train,y_test,y_train=train_test_split(X,y,test_size=0.5)\n",
    "    lr.fit(X_train,y_train)\n",
    "    R_train=lr.score(X_train,y_train)\n",
    "    R_test=lr.score(X_test,y_test)\n",
    "    result5.append(R_train)\n",
    "    result6.append(R_test)\n",
    "print('Mean of score for training set of n=10 is:',np.mean(result5))\n",
    "print('Mean of score for testing set of n=10 is:',np.mean(result6))\n"
   ]
  },
  {
   "cell_type": "code",
   "execution_count": 34,
   "metadata": {},
   "outputs": [
    {
     "name": "stdout",
     "output_type": "stream",
     "text": [
      "Mean of score for training set of n=10 is: 0.4997479185022236\n",
      "Mean of score for testing set of n=10 is: 0.49619603159560244\n"
     ]
    }
   ],
   "source": [
    "#6\n",
    "result7=[]\n",
    "result8=[]\n",
    "\n",
    "for _ in range(1000):\n",
    "    X,y=genLinData(1000, 1)\n",
    "    lr=LinearRegression()\n",
    "    X_test,X_train,y_test,y_train=train_test_split(X,y,test_size=0.5)\n",
    "    lr.fit(X_train,y_train)\n",
    "    R_train=lr.score(X_train,y_train)\n",
    "    R_test=lr.score(X_test,y_test)\n",
    "    result7.append(R_train)\n",
    "    result8.append(R_test)\n",
    "print('Mean of score for training set of n=10 is:',np.mean(result7))\n",
    "print('Mean of score for testing set of n=10 is:',np.mean(result8))"
   ]
  },
  {
   "cell_type": "code",
   "execution_count": 35,
   "metadata": {},
   "outputs": [
    {
     "name": "stdout",
     "output_type": "stream",
     "text": [
      "Mean of score for training set of n=1 is: 0.5090701057819567\n",
      "Mean of score for testing set of n=1 is: 0.4880638021529752\n"
     ]
    }
   ],
   "source": [
    "np.random.seed(42)\n",
    "result9=[]\n",
    "result10=[]\n",
    "m=1000\n",
    "n=1\n",
    "for _ in range(1000):\n",
    "    X,y=genLinData(1000, 10)\n",
    "    lr=LinearRegression()\n",
    "    X_test,X_train,y_test,y_train=train_test_split(X,y,test_size=0.5)\n",
    "    lr.fit(X_train,y_train)\n",
    "    R_train=lr.score(X_train,y_train)\n",
    "    R_test=lr.score(X_test,y_test)\n",
    "    result9.append(R_train)\n",
    "    result10.append(R_test)\n",
    "print('Mean of score for training set of n=1 is:',np.mean(result9))\n",
    "print('Mean of score for testing set of n=1 is:',np.mean(result10))\n",
    "#Increase in sample size decreases the overfitting compared with the scores between sample size 100 and sample size of 1000."
   ]
  },
  {
   "cell_type": "code",
   "execution_count": null,
   "metadata": {},
   "outputs": [],
   "source": []
  }
 ],
 "metadata": {
  "kernelspec": {
   "display_name": "Python 3 (ipykernel)",
   "language": "python",
   "name": "python3"
  },
  "language_info": {
   "codemirror_mode": {
    "name": "ipython",
    "version": 3
   },
   "file_extension": ".py",
   "mimetype": "text/x-python",
   "name": "python",
   "nbconvert_exporter": "python",
   "pygments_lexer": "ipython3",
   "version": "3.8.8"
  }
 },
 "nbformat": 4,
 "nbformat_minor": 2
}
