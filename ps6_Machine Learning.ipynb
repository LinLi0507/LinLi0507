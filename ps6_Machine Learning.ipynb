{
 "cells": [
  {
   "cell_type": "markdown",
   "metadata": {},
   "source": [
    "# Problem set 6: Spring 2022\n",
    "\n",
    "Due: Friday, March 11th at midnight (12AM)"
   ]
  },
  {
   "cell_type": "code",
   "execution_count": 1,
   "metadata": {},
   "outputs": [],
   "source": [
    "# Load necessary python libraries\n",
    "%matplotlib inline\n",
    "import numpy as np\n",
    "import matplotlib.pyplot as plt\n",
    "\n",
    "# For time checks\n",
    "import time\n",
    "\n",
    "# Scikit learn models\n",
    "from sklearn.linear_model import LinearRegression\n",
    "from sklearn.linear_model import Ridge\n",
    "from sklearn.linear_model import Lasso\n",
    "from sklearn.linear_model import SGDRegressor\n",
    "\n",
    "# Cross-validation helpers\n",
    "from sklearn.model_selection import cross_val_score\n",
    "from sklearn.model_selection import cross_validate\n",
    "from sklearn.model_selection import ShuffleSplit\n",
    "from sklearn.model_selection import train_test_split\n",
    "\n",
    "# Polynomial generator\n",
    "from sklearn.preprocessing import PolynomialFeatures\n",
    "\n",
    "# Set random seed, so our results are similar\n",
    "# Where does 42 come from?\n",
    "np.random.seed(42)"
   ]
  },
  {
   "cell_type": "markdown",
   "metadata": {},
   "source": [
    "# Starter functions"
   ]
  },
  {
   "cell_type": "code",
   "execution_count": 2,
   "metadata": {},
   "outputs": [],
   "source": [
    "# Function to generate linear data experiments\n",
    "def genLinData(m,n,R2):\n",
    "    # y = x_1 + x_2 .. x_n + eps\n",
    "    # X's scaled so the variance of explained part is 1\n",
    "    # Function choses variance of noise to set theoretical R2 = R2 argument\n",
    "    sigNoise = np.sqrt(1./n)\n",
    "    X = np.random.normal(size=(m,n),loc=0,scale=sigNoise)\n",
    "    noise = np.sqrt((1.-R2)/R2)\n",
    "    eps = np.random.normal(size=m,loc=0,scale=noise)\n",
    "    y = np.sum(X,axis=1)+eps\n",
    "    return X,y"
   ]
  },
  {
   "cell_type": "markdown",
   "metadata": {},
   "source": [
    "### A little preprocessing"
   ]
  },
  {
   "cell_type": "code",
   "execution_count": 3,
   "metadata": {},
   "outputs": [
    {
     "name": "stdout",
     "output_type": "stream",
     "text": [
      "(60, 65)\n"
     ]
    }
   ],
   "source": [
    "# Set up initial monte-carlo simulation\n",
    "X, y = genLinData(60,10,0.75)\n",
    "\n",
    "# Expand features(X) using 2-degree polynomials\n",
    "poly = PolynomialFeatures(degree=2,include_bias=False)\n",
    "Xpoly = poly.fit_transform(X)\n",
    "# A reminder of how big Xpoly is (remember it has cross terms like x1*x2, not just x1^2)\n",
    "# n + n + n(n-1)/2 = 65\n",
    "print(Xpoly.shape)\n",
    "\n",
    "# Set up basic simulation parameters\n",
    "nmc = 50 # number of randomized cross-validations\n",
    "testSize = 0.25 # Test set fraction\n"
   ]
  },
  {
   "cell_type": "markdown",
   "metadata": {},
   "source": [
    "### 1. Linear regression\n",
    "\n",
    "Run a monte-carlo cross-validation for a basic linear regression model using the nmc, and testSize parameters, and cross_Validate() as we usually do.  Report the mean score from both the training and test samples.  Do this for both the (y,X) pair, and the (y,Xpoly) pair.  In each case also report the elapsed time for your entire randomized cross validation experiment."
   ]
  },
  {
   "cell_type": "code",
   "execution_count": 48,
   "metadata": {},
   "outputs": [
    {
     "name": "stdout",
     "output_type": "stream",
     "text": [
      "Elapsed time: 0.07481551170349121\n",
      "0.7843937702979177\n",
      "0.555999850455543\n"
     ]
    }
   ],
   "source": [
    "from sklearn.model_selection import train_test_split\n",
    "from sklearn.linear_model import LogisticRegression\n",
    "from sklearn.model_selection import cross_val_score\n",
    "from sklearn.model_selection import cross_validate\n",
    "from sklearn.model_selection import StratifiedShuffleSplit\n",
    "from sklearn.linear_model import LinearRegression\n",
    "import time\n",
    "\n",
    "lr = LinearRegression()\n",
    "nmc = 50 # number of randomized cross-validations\n",
    "testSize = 0.25 # Test set fraction\n",
    "stime = time.time()\n",
    "shuffle = ShuffleSplit(n_splits=nmc, test_size=.25)\n",
    "CVInfo = cross_validate(lr, X, y, cv=shuffle,return_train_score=True)\n",
    "\n",
    "\n",
    "etime = time.time()\n",
    "print(\"Elapsed time:\",etime-stime)\n",
    "print(np.mean(CVInfo['train_score']))\n",
    "print(np.mean(CVInfo['test_score']))\n"
   ]
  },
  {
   "cell_type": "code",
   "execution_count": 49,
   "metadata": {},
   "outputs": [
    {
     "name": "stdout",
     "output_type": "stream",
     "text": [
      "Elapsed time: 0.10967302322387695\n",
      "1.0\n",
      "-1.1696686727079508\n"
     ]
    }
   ],
   "source": [
    "lr = LinearRegression()\n",
    "nmc = 50 # number of randomized cross-validations\n",
    "testSize = 0.25 # Test set fraction\n",
    "\n",
    "stime = time.time()\n",
    "shuffle = ShuffleSplit(n_splits=nmc, test_size=.25)\n",
    "CVInfo = cross_validate(lr, Xpoly, y, cv=shuffle,return_train_score=True)\n",
    "\n",
    "etime = time.time()\n",
    "print(\"Elapsed time:\",etime-stime)\n",
    "print(np.mean(CVInfo['train_score']))\n",
    "print(np.mean(CVInfo['test_score']))\n"
   ]
  },
  {
   "cell_type": "markdown",
   "metadata": {},
   "source": [
    "### 2. Stochastic gradient\n",
    "\n",
    "Now estimate the model using a stochastic gradient system.  Use the scikit-Learn function SGDRegressor().\n",
    "Set it up with the following parameters.\n",
    "\n",
    "SGDRegressor(max_iter=500000, tol=1e-6,penalty=\"None\",eta0=0.01,\n",
    "                    alpha=0.0,learning_rate=\"adaptive\")\n",
    "\n",
    "Run a randomized cross-validation for both the (y,X) and (y,Xpoly) pairs using the nmc, testSize that you used in the last simulation.  Report the mean train and test scores in both cases.\n",
    "\n",
    "Also, find the elapsed time for your entire randomized cross validation run.\n",
    "\n",
    "Finally, try boosting the learning rate, eta, to 1.0 for the (y,Xpoly) case. How did that work?"
   ]
  },
  {
   "cell_type": "code",
   "execution_count": 50,
   "metadata": {},
   "outputs": [
    {
     "name": "stdout",
     "output_type": "stream",
     "text": [
      "Elapsed time: 0.11567330360412598\n",
      "0.7817294515574925\n",
      "0.5459274008951447\n"
     ]
    }
   ],
   "source": [
    "# Cross-validation helpers\n",
    "from sklearn.model_selection import cross_val_score\n",
    "from sklearn.model_selection import cross_validate\n",
    "from sklearn.model_selection import ShuffleSplit\n",
    "\n",
    "nmc = 50 # number of randomized cross-validations\n",
    "testSize = 0.25 # Test set fraction\n",
    "stime = time.time()\n",
    "sgd_reg = SGDRegressor(max_iter=500000, tol=1e-6, penalty=None, eta0=0.01,alpha=0.0,learning_rate=\"adaptive\")\n",
    "\n",
    "sgd_reg.fit(X, y)\n",
    "shuffle = ShuffleSplit(n_splits=nmc, test_size=testSize)\n",
    "CVInfo = cross_validate(sgd_reg, X, y, cv=shuffle,return_train_score=True)\n",
    "etime = time.time()\n",
    "print(\"Elapsed time:\",etime-stime)\n",
    "print(np.mean(CVInfo['train_score']))\n",
    "print(np.mean(CVInfo['test_score']))"
   ]
  },
  {
   "cell_type": "code",
   "execution_count": 7,
   "metadata": {},
   "outputs": [
    {
     "name": "stdout",
     "output_type": "stream",
     "text": [
      "Elapsed time: 2.486431121826172\n",
      "0.9884705550319387\n",
      "-0.05924810560224368\n"
     ]
    }
   ],
   "source": [
    "nmc = 50 # number of randomized cross-validations\n",
    "testSize = 0.25 # Test set fraction\n",
    "sgd_reg = SGDRegressor(max_iter=500000, tol=1e-6, penalty=None, eta0=0.01,alpha=0.0,learning_rate=\"adaptive\")\n",
    "stime = time.time()\n",
    "sgd_reg.fit(Xpoly, y)\n",
    "shuffle = ShuffleSplit(n_splits=nmc, test_size=testSize)\n",
    "CVInfo = cross_validate(sgd_reg, Xpoly, y, cv=shuffle,return_train_score=True)\n",
    "etime = time.time()\n",
    "print(\"Elapsed time:\",etime-stime)\n",
    "print(np.mean(CVInfo['train_score']))\n",
    "print(np.mean(CVInfo['test_score']))"
   ]
  },
  {
   "cell_type": "code",
   "execution_count": 8,
   "metadata": {},
   "outputs": [
    {
     "name": "stdout",
     "output_type": "stream",
     "text": [
      "Elapsed time: 0.09374785423278809\n",
      "-584389931.804977\n",
      "-801913092.1663612\n"
     ]
    }
   ],
   "source": [
    "#Change learning rate to 1\n",
    "nmc = 50 # number of randomized cross-validations\n",
    "testSize = 0.25 # Test set fraction\n",
    "sgd_reg = SGDRegressor(max_iter=500000, tol=1e-6, penalty=None, eta0=1.0,alpha=0.0,learning_rate=\"adaptive\")\n",
    "stime = time.time()\n",
    "sgd_reg.fit(Xpoly, y)\n",
    "shuffle = ShuffleSplit(n_splits=nmc, test_size=testSize)\n",
    "CVInfo = cross_validate(sgd_reg, Xpoly, y, cv=shuffle,return_train_score=True)\n",
    "etime = time.time()\n",
    "print(\"Elapsed time:\",etime-stime)\n",
    "print(np.mean(CVInfo['train_score']))\n",
    "print(np.mean(CVInfo['test_score']))"
   ]
  },
  {
   "cell_type": "markdown",
   "metadata": {},
   "source": [
    "The elapsed time decreases after the learning rate is increased from 0.01 to 1.0 but the both the train and test score is negative and indicates that we set a the learning rate too large and there is unstable convergence due to large learning rate."
   ]
  },
  {
   "cell_type": "markdown",
   "metadata": {},
   "source": [
    "### 3. Early stopping\n",
    "\n",
    "Now, implement an early stopping procedure for the stochastic gradient estimation.  Use the previous parameters for SGDRegressor(), but turn on early_stopping.  Set the validation_fraction to 1/3 of the data set.  Again, run the same randomized cross valiation experiment that you have done before, and report mean scores on training and test data.  Repeat this for (y,X) and (y,Xpoly).  Also, report the elapsed time in for each set of nmc simulations.\n",
    "\n",
    "Note: Both of these can be pretty slow.  On my laptop machine (5 years old) the (y,Xpoly) run is taking about 5-10 minutes.  Run experiments on your code with much lower values for nmc.  Then when you know things are working take it back to the original value.  It is interesting that early stopping is so slow."
   ]
  },
  {
   "cell_type": "code",
   "execution_count": 9,
   "metadata": {},
   "outputs": [
    {
     "name": "stdout",
     "output_type": "stream",
     "text": [
      "Elapsed time: 4.616688966751099\n",
      "0.6314160914116245\n",
      "0.39122643273772\n"
     ]
    }
   ],
   "source": [
    "nmc = 50 # number of randomized cross-validations\n",
    "testSize = 0.25 # Test set fraction\n",
    "sgd_reg = SGDRegressor(max_iter=500000, tol=1e-6, penalty=None, eta0=0.01,alpha=0.0,\n",
    "                       early_stopping=True,validation_fraction=1./3,learning_rate=\"adaptive\")\n",
    "stime = time.time()\n",
    "sgd_reg.fit(X, y)\n",
    "shuffle = ShuffleSplit(n_splits=nmc, test_size=testSize)\n",
    "CVInfo = cross_validate(sgd_reg, X, y, cv=shuffle,return_train_score=True)\n",
    "etime = time.time()\n",
    "print(\"Elapsed time:\",etime-stime)\n",
    "print(np.mean(CVInfo['train_score']))\n",
    "print(np.mean(CVInfo['test_score']))\n"
   ]
  },
  {
   "cell_type": "code",
   "execution_count": 52,
   "metadata": {},
   "outputs": [
    {
     "name": "stdout",
     "output_type": "stream",
     "text": [
      "Elapsed time: 110.02876305580139\n",
      "0.6384744377101196\n",
      "0.2460967790231116\n"
     ]
    }
   ],
   "source": [
    "# Set up randomized cross validation (y,Xpoly) pair\n",
    "nmc = 50 # number of randomized cross-validations\n",
    "testSize = 0.25 # Test set fraction\n",
    "sgd_reg = SGDRegressor(max_iter=500000, tol=1e-6, penalty=None, eta0=0.01,alpha=0.0,\n",
    "                       early_stopping=True,validation_fraction=1./3,learning_rate=\"adaptive\")\n",
    "stime = time.time()\n",
    "sgd_reg.fit(Xpoly, y)\n",
    "shuffle = ShuffleSplit(n_splits=nmc, test_size=testSize)\n",
    "CVInfo = cross_validate(sgd_reg, Xpoly, y, cv=shuffle,return_train_score=True)\n",
    "etime = time.time()\n",
    "print(\"Elapsed time:\",etime-stime)\n",
    "print(np.mean(CVInfo['train_score']))\n",
    "print(np.mean(CVInfo['test_score']))"
   ]
  },
  {
   "cell_type": "markdown",
   "metadata": {},
   "source": [
    "### 4. Batch gradient descent\n",
    "\n",
    "Estimate the model using a batch gradient descent model.  See the \"earlyStopping\" notebook for examples on how to implement this.  (It is tricky in terms of code.)\n",
    "\n",
    "Do a randomized cross-validation here using the same parameters as before, but this will be tricky because of the way the model gets implemented.  You cannot use cross_validate().  You need to go back to train_test_split(), and loop over the train/test draws as we did the first time in the class with this.  Also, for the batch estimation, use 1000 epochs (or passes through the data).\n",
    "\n",
    "Again, report mean scores on training and testing data, and elapsed time for the entire procedure.\n",
    "\n",
    "In this case, only use the (y,Xpoly) data."
   ]
  },
  {
   "cell_type": "code",
   "execution_count": 21,
   "metadata": {},
   "outputs": [
    {
     "name": "stdout",
     "output_type": "stream",
     "text": [
      "Elapsed time: 7.8689868450164795\n",
      "0.9941305123388869\n",
      "0.8913391935299978\n"
     ]
    }
   ],
   "source": [
    "sgd_reg = SGDRegressor(max_iter=500000, tol=1e-6, penalty=None, eta0=0.01,alpha=0.0,learning_rate=\"adaptive\")\n",
    "nmc = 50 # number of randomized cross-validations\n",
    "testSize = 0.25 # Test set fraction\n",
    "stime = time.time()\n",
    "testScore = np.zeros(nmc)\n",
    "trainScore = np.zeros(nmc)\n",
    "for i in range(nmc):\n",
    "    Xpoly_train, Xpoly_test, y_train, y_test = train_test_split(Xpoly,y,test_size=0.25)\n",
    "    for epoch in range(1000):\n",
    "        sgd_reg.partial_fit(Xpoly_train,y_train)\n",
    "    trainScore[i] = sgd_reg.score(Xpoly_train,y_train)\n",
    "    testScore[i]  = sgd_reg.score(Xpoly_test,y_test)\n",
    "\n",
    "etime = time.time()\n",
    "print(\"Elapsed time:\",etime-stime)\n",
    "print(np.mean(trainScore))\n",
    "print(np.mean(testScore))  \n"
   ]
  },
  {
   "cell_type": "markdown",
   "metadata": {},
   "source": [
    "### 5. Ridge regression\n",
    "\n",
    "Now try a ridge regresion with (y, Xpoly) data only.  Perform a grid search (using a for loop) with alpha in the following range.\n",
    "\n",
    "np.arange(start=0.1,stop=3.0,step=0.1)\n",
    "\n",
    "For each alpha find the mean train and test scores (R-squared) from a randomized cross-validation (same params as before).\n",
    "\n",
    "Plot the test and train mean scores against the alpha values.\n",
    "\n",
    "Record your bestAlpha from the test data."
   ]
  },
  {
   "cell_type": "code",
   "execution_count": 58,
   "metadata": {},
   "outputs": [
    {
     "data": {
      "image/png": "[encoded data removed]",
      "text/plain": [
       "<Figure size 432x288 with 1 Axes>"
      ]
     },
     "metadata": {
      "needs_background": "light"
     },
     "output_type": "display_data"
    }
   ],
   "source": [
    "from sklearn.pipeline import make_pipeline\n",
    "testScoreList = []\n",
    "trainScoreList = []\n",
    "nmc = 50\n",
    "shuffle = ShuffleSplit(n_splits=nmc, test_size=.25)\n",
    "# List of C's to try\n",
    "alphas = np.arange(start=0.1,stop=3.0,step=0.1)\n",
    "for a in alphas:\n",
    "    fullModel = make_pipeline(StandardScaler(), Ridge(alpha=a))\n",
    "    CVInfo = cross_validate(fullModel, Xpoly, y, cv=shuffle,return_train_score=True,n_jobs=-1)\n",
    "    trainScoreList.append(np.mean(CVInfo['train_score']))\n",
    "    testScoreList.append(np.mean(CVInfo['test_score']))\n",
    "\n",
    "# plotting\n",
    "plt.plot(alphas,trainScoreList,label='Mean Train Score')\n",
    "plt.plot(alphas,testScoreList,label='Mean Test Score')\n",
    "plt.xlabel('Alpha')\n",
    "plt.legend()\n",
    "plt.grid()"
   ]
  },
  {
   "cell_type": "code",
   "execution_count": 66,
   "metadata": {},
   "outputs": [
    {
     "name": "stdout",
     "output_type": "stream",
     "text": [
      "Best Mean Test Score -0.19772168312331323\n",
      "Best Alpha: 2.6\n"
     ]
    }
   ],
   "source": [
    "best_index = testScoreList.index(max(testScoreList))\n",
    "print(\"Best Mean Test Score\", max(testScoreList))\n",
    "bestAlpha = round(alphas[best_index],1) \n",
    "print(\"Best Alpha:\", bestAlpha)"
   ]
  },
  {
   "cell_type": "markdown",
   "metadata": {},
   "source": [
    "### 6. Ridge regression summary\n",
    "\n",
    "Run our usual randomized monte-carlo trial for ridge regression using your bestAlpha value.  Same parameters as before.  Do this with only the (y,Xpoly) pairs and report the mean train and test scores.  Also, report the elapsed time."
   ]
  },
  {
   "cell_type": "code",
   "execution_count": 67,
   "metadata": {},
   "outputs": [
    {
     "name": "stdout",
     "output_type": "stream",
     "text": [
      "\n",
      "(y, Xpoly) pair\n",
      "Mean Train Score: 0.7155116537732595\n",
      "Mean Test Score: 0.41615276416436087\n",
      "Elapsed Time: 0.10569024085998535\n"
     ]
    }
   ],
   "source": [
    "stime = time.time()\n",
    "ridge = Ridge(alpha=bestAlpha)\n",
    "CVInfo = cross_validate(ridge, Xpoly, y, cv=shuffle,return_train_score=True)\n",
    "etime = time.time()\n",
    "rtimeP = etime-stime\n",
    "print(\"\\n(y, Xpoly) pair\")\n",
    "print(\"Mean Train Score:\", np.mean(CVInfo['train_score']))\n",
    "print(\"Mean Test Score:\", np.mean(CVInfo['test_score']))\n",
    "print(\"Elapsed Time:\",rtimeP)"
   ]
  },
  {
   "cell_type": "markdown",
   "metadata": {},
   "source": [
    "### 7. Discsussion\n",
    "\n",
    "Compare your results from your various models for the (y,Xpoly) case.  Which model performs best in terms of test R-squared?  What is your overall ranking of models?  (LinearRegression, Stochastic Gradient Descent, Stochastic Gradient Descent with Early Stopping, Batch Gradient Descent, and Ridge regression)\n",
    "\n",
    "In terms of compute time how do the methods compare?\n",
    "\n",
    "\n"
   ]
  },
  {
   "cell_type": "markdown",
   "metadata": {},
   "source": [
    "Linear Regression\n",
    "Elapsed time: 0.10967302322387695\n",
    "Test Score: -1.1696686727079508\n",
    "\n",
    "Stochastic Gradient Descent\n",
    "Elapsed time: 2.486431121826172\n",
    "Test Score: -0.05924810560224368\n",
    "\n",
    "Stochastic Gradient Descent with Early Stopping\n",
    "Elapsed time: 110.02876305580139\n",
    "Test Score: 0.2460967790231116\n",
    "\n",
    "Batch Gradient Descent\n",
    "Elapsed time: 7.8689868450164795\n",
    "Test Score: 0.8913391935299978\n",
    "\n",
    "Ridge Regression\n",
    "Mean Test Score: 0.41615276416436087\n",
    "Elapsed Time: 0.10569024085998535\n",
    "\n",
    "In terms of test R-squared, Batch Gradient Descent performs best.\n",
    "The overall rankings of the model would be:\n",
    "\n",
    "1) Batch Gradient Descent\n",
    "2) Ridge Regression 3) Stochastic Gradient Descent with Early Stopping 4) Stochastic Gradient Descent 5) Linear Regression\n",
    "\n",
    "In terms of compute time, the rankings would be:\n",
    "\n",
    "1) Ridge Regression 2) Linear Regression 3) Stochastic Gradient Descent 4) Batch Gradient Descent 5) Stochastic Gradient Descent with Early Stopping"
   ]
  },
  {
   "cell_type": "code",
   "execution_count": null,
   "metadata": {},
   "outputs": [],
   "source": []
  }
 ],
 "metadata": {
  "kernelspec": {
   "display_name": "Python 3 (ipykernel)",
   "language": "python",
   "name": "python3"
  },
  "language_info": {
   "codemirror_mode": {
    "name": "ipython",
    "version": 3
   },
   "file_extension": ".py",
   "mimetype": "text/x-python",
   "name": "python",
   "nbconvert_exporter": "python",
   "pygments_lexer": "ipython3",
   "version": "3.8.8"
  }
 },
 "nbformat": 4,
 "nbformat_minor": 4
}
