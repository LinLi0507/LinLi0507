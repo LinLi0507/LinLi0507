{
 "cells": [
  {
   "cell_type": "markdown",
   "metadata": {},
   "source": [
    "# Bus241a: Spring 2022\n",
    "# Problem set 9 starter\n",
    "\n",
    "\n",
    "This dataset is downloaded from Kaggle(https://www.kaggle.com/mirichoi0218/insurance)\n",
    "Predict insurance costs based on the following variables:\n",
    "\n",
    "* **age:** age of primary beneficiary\n",
    "* **sex:** insurance contractor gender, female, male\n",
    "* **bmi:** Body mass index, providing an understanding of body, weights that are relatively high or low relative to height,objective index of body weight (kg / m ^ 2) using the ratio of height to weight, ideally 18.5 to 24.9\n",
    "* **children:** Number of children covered by health insurance / Number of dependents\n",
    "* **smoker:** Smoking\n",
    "* **region:** the beneficiary's residential area in the US, northeast, southeast, southwest, northwest.\n",
    "* **charges:** Individual medical costs billed by health insurance"
   ]
  },
  {
   "cell_type": "code",
   "execution_count": 1,
   "metadata": {},
   "outputs": [],
   "source": [
    "# Load tools\n",
    "import pandas as pd\n",
    "import matplotlib.pyplot as plt\n",
    "import seaborn as sns\n",
    "import numpy as np\n",
    "from scipy.stats import norm\n",
    "from sklearn.preprocessing import StandardScaler\n",
    "from sklearn.preprocessing import MinMaxScaler\n",
    "from sklearn.preprocessing import OneHotEncoder\n",
    "from sklearn.preprocessing import OrdinalEncoder\n",
    "from scipy import stats\n",
    "import warnings\n",
    "warnings.filterwarnings('ignore')\n",
    "import numpy as np\n",
    "import matplotlib\n",
    "# Make plots appear in notebook\n",
    "%matplotlib inline\n",
    "\n",
    "from sklearn.model_selection import train_test_split\n",
    "from sklearn.linear_model import LinearRegression\n",
    "from sklearn.linear_model import Ridge\n",
    "from sklearn.linear_model import Lasso\n",
    "import matplotlib as mpl\n",
    "\n",
    "from sklearn.model_selection import cross_val_score\n",
    "from sklearn.model_selection import cross_validate\n",
    "from sklearn.model_selection import ShuffleSplit\n",
    "from sklearn.pipeline import make_pipeline\n",
    "\n",
    "from sklearn.model_selection import GridSearchCV\n",
    "from sklearn.model_selection import ShuffleSplit\n",
    "from sklearn.preprocessing import MinMaxScaler\n",
    "from sklearn.pipeline import Pipeline\n",
    "\n",
    "np.random.seed(42)"
   ]
  },
  {
   "cell_type": "markdown",
   "metadata": {},
   "source": [
    "#### Read CSV file"
   ]
  },
  {
   "cell_type": "code",
   "execution_count": 7,
   "metadata": {},
   "outputs": [],
   "source": [
    "import pandas as pd\n",
    "import os\n",
    "cwd = os.getcwd()\n",
    "path='C:\\\\Users\\\\Li Lin\\\\Desktop'\n",
    "os.chdir(path)"
   ]
  },
  {
   "cell_type": "code",
   "execution_count": 8,
   "metadata": {},
   "outputs": [],
   "source": [
    "insurance_df = pd.read_csv('insurance.csv')"
   ]
  },
  {
   "cell_type": "markdown",
   "metadata": {},
   "source": [
    "#### Check for missing values; Describe data"
   ]
  },
  {
   "cell_type": "code",
   "execution_count": 9,
   "metadata": {},
   "outputs": [
    {
     "name": "stdout",
     "output_type": "stream",
     "text": [
      "<class 'pandas.core.frame.DataFrame'>\n",
      "RangeIndex: 1338 entries, 0 to 1337\n",
      "Data columns (total 7 columns):\n",
      " #   Column    Non-Null Count  Dtype  \n",
      "---  ------    --------------  -----  \n",
      " 0   age       1338 non-null   int64  \n",
      " 1   sex       1338 non-null   object \n",
      " 2   bmi       1338 non-null   float64\n",
      " 3   children  1338 non-null   int64  \n",
      " 4   smoker    1338 non-null   object \n",
      " 5   region    1338 non-null   object \n",
      " 6   charges   1338 non-null   float64\n",
      "dtypes: float64(2), int64(2), object(3)\n",
      "memory usage: 73.3+ KB\n",
      "(1338, 7)\n"
     ]
    }
   ],
   "source": [
    "insurance_df.info()\n",
    "print(insurance_df.shape)"
   ]
  },
  {
   "cell_type": "code",
   "execution_count": 10,
   "metadata": {},
   "outputs": [
    {
     "data": {
      "text/plain": [
       "age         0\n",
       "sex         0\n",
       "bmi         0\n",
       "children    0\n",
       "smoker      0\n",
       "region      0\n",
       "charges     0\n",
       "dtype: int64"
      ]
     },
     "execution_count": 10,
     "metadata": {},
     "output_type": "execute_result"
    }
   ],
   "source": [
    "insurance_df.isnull().sum()"
   ]
  },
  {
   "cell_type": "code",
   "execution_count": 11,
   "metadata": {},
   "outputs": [
    {
     "data": {
      "text/html": [
       "<div>\n",
       "<style scoped>\n",
       "    .dataframe tbody tr th:only-of-type {\n",
       "        vertical-align: middle;\n",
       "    }\n",
       "\n",
       "    .dataframe tbody tr th {\n",
       "        vertical-align: top;\n",
       "    }\n",
       "\n",
       "    .dataframe thead th {\n",
       "        text-align: right;\n",
       "    }\n",
       "</style>\n",
       "<table border=\"1\" class=\"dataframe\">\n",
       "  <thead>\n",
       "    <tr style=\"text-align: right;\">\n",
       "      <th></th>\n",
       "      <th>age</th>\n",
       "      <th>sex</th>\n",
       "      <th>bmi</th>\n",
       "      <th>children</th>\n",
       "      <th>smoker</th>\n",
       "      <th>region</th>\n",
       "      <th>charges</th>\n",
       "    </tr>\n",
       "  </thead>\n",
       "  <tbody>\n",
       "    <tr>\n",
       "      <th>0</th>\n",
       "      <td>19</td>\n",
       "      <td>female</td>\n",
       "      <td>27.900</td>\n",
       "      <td>0</td>\n",
       "      <td>yes</td>\n",
       "      <td>southwest</td>\n",
       "      <td>16884.92400</td>\n",
       "    </tr>\n",
       "    <tr>\n",
       "      <th>1</th>\n",
       "      <td>18</td>\n",
       "      <td>male</td>\n",
       "      <td>33.770</td>\n",
       "      <td>1</td>\n",
       "      <td>no</td>\n",
       "      <td>southeast</td>\n",
       "      <td>1725.55230</td>\n",
       "    </tr>\n",
       "    <tr>\n",
       "      <th>2</th>\n",
       "      <td>28</td>\n",
       "      <td>male</td>\n",
       "      <td>33.000</td>\n",
       "      <td>3</td>\n",
       "      <td>no</td>\n",
       "      <td>southeast</td>\n",
       "      <td>4449.46200</td>\n",
       "    </tr>\n",
       "    <tr>\n",
       "      <th>3</th>\n",
       "      <td>33</td>\n",
       "      <td>male</td>\n",
       "      <td>22.705</td>\n",
       "      <td>0</td>\n",
       "      <td>no</td>\n",
       "      <td>northwest</td>\n",
       "      <td>21984.47061</td>\n",
       "    </tr>\n",
       "    <tr>\n",
       "      <th>4</th>\n",
       "      <td>32</td>\n",
       "      <td>male</td>\n",
       "      <td>28.880</td>\n",
       "      <td>0</td>\n",
       "      <td>no</td>\n",
       "      <td>northwest</td>\n",
       "      <td>3866.85520</td>\n",
       "    </tr>\n",
       "  </tbody>\n",
       "</table>\n",
       "</div>"
      ],
      "text/plain": [
       "   age     sex     bmi  children smoker     region      charges\n",
       "0   19  female  27.900         0    yes  southwest  16884.92400\n",
       "1   18    male  33.770         1     no  southeast   1725.55230\n",
       "2   28    male  33.000         3     no  southeast   4449.46200\n",
       "3   33    male  22.705         0     no  northwest  21984.47061\n",
       "4   32    male  28.880         0     no  northwest   3866.85520"
      ]
     },
     "execution_count": 11,
     "metadata": {},
     "output_type": "execute_result"
    }
   ],
   "source": [
    "insurance_df.head()"
   ]
  },
  {
   "cell_type": "code",
   "execution_count": 12,
   "metadata": {},
   "outputs": [
    {
     "data": {
      "text/plain": [
       "array(['southwest', 'southeast', 'northwest', 'northeast'], dtype=object)"
      ]
     },
     "execution_count": 12,
     "metadata": {},
     "output_type": "execute_result"
    }
   ],
   "source": [
    "insurance_df['region'].unique()"
   ]
  },
  {
   "cell_type": "markdown",
   "metadata": {},
   "source": [
    "## Create dummies"
   ]
  },
  {
   "cell_type": "code",
   "execution_count": 15,
   "metadata": {},
   "outputs": [
    {
     "data": {
      "text/html": [
       "<div>\n",
       "<style scoped>\n",
       "    .dataframe tbody tr th:only-of-type {\n",
       "        vertical-align: middle;\n",
       "    }\n",
       "\n",
       "    .dataframe tbody tr th {\n",
       "        vertical-align: top;\n",
       "    }\n",
       "\n",
       "    .dataframe thead th {\n",
       "        text-align: right;\n",
       "    }\n",
       "</style>\n",
       "<table border=\"1\" class=\"dataframe\">\n",
       "  <thead>\n",
       "    <tr style=\"text-align: right;\">\n",
       "      <th></th>\n",
       "      <th>age</th>\n",
       "      <th>bmi</th>\n",
       "      <th>children</th>\n",
       "      <th>charges</th>\n",
       "      <th>sex_male</th>\n",
       "      <th>smoker_yes</th>\n",
       "      <th>region_northwest</th>\n",
       "      <th>region_southeast</th>\n",
       "      <th>region_southwest</th>\n",
       "    </tr>\n",
       "  </thead>\n",
       "  <tbody>\n",
       "    <tr>\n",
       "      <th>0</th>\n",
       "      <td>19</td>\n",
       "      <td>27.900</td>\n",
       "      <td>0</td>\n",
       "      <td>16884.92400</td>\n",
       "      <td>0</td>\n",
       "      <td>1</td>\n",
       "      <td>0</td>\n",
       "      <td>0</td>\n",
       "      <td>1</td>\n",
       "    </tr>\n",
       "    <tr>\n",
       "      <th>1</th>\n",
       "      <td>18</td>\n",
       "      <td>33.770</td>\n",
       "      <td>1</td>\n",
       "      <td>1725.55230</td>\n",
       "      <td>1</td>\n",
       "      <td>0</td>\n",
       "      <td>0</td>\n",
       "      <td>1</td>\n",
       "      <td>0</td>\n",
       "    </tr>\n",
       "    <tr>\n",
       "      <th>2</th>\n",
       "      <td>28</td>\n",
       "      <td>33.000</td>\n",
       "      <td>3</td>\n",
       "      <td>4449.46200</td>\n",
       "      <td>1</td>\n",
       "      <td>0</td>\n",
       "      <td>0</td>\n",
       "      <td>1</td>\n",
       "      <td>0</td>\n",
       "    </tr>\n",
       "    <tr>\n",
       "      <th>3</th>\n",
       "      <td>33</td>\n",
       "      <td>22.705</td>\n",
       "      <td>0</td>\n",
       "      <td>21984.47061</td>\n",
       "      <td>1</td>\n",
       "      <td>0</td>\n",
       "      <td>1</td>\n",
       "      <td>0</td>\n",
       "      <td>0</td>\n",
       "    </tr>\n",
       "    <tr>\n",
       "      <th>4</th>\n",
       "      <td>32</td>\n",
       "      <td>28.880</td>\n",
       "      <td>0</td>\n",
       "      <td>3866.85520</td>\n",
       "      <td>1</td>\n",
       "      <td>0</td>\n",
       "      <td>1</td>\n",
       "      <td>0</td>\n",
       "      <td>0</td>\n",
       "    </tr>\n",
       "  </tbody>\n",
       "</table>\n",
       "</div>"
      ],
      "text/plain": [
       "   age     bmi  children      charges  sex_male  smoker_yes  region_northwest  \\\n",
       "0   19  27.900         0  16884.92400         0           1                 0   \n",
       "1   18  33.770         1   1725.55230         1           0                 0   \n",
       "2   28  33.000         3   4449.46200         1           0                 0   \n",
       "3   33  22.705         0  21984.47061         1           0                 1   \n",
       "4   32  28.880         0   3866.85520         1           0                 1   \n",
       "\n",
       "   region_southeast  region_southwest  \n",
       "0                 0                 1  \n",
       "1                 1                 0  \n",
       "2                 1                 0  \n",
       "3                 0                 0  \n",
       "4                 0                 0  "
      ]
     },
     "execution_count": 15,
     "metadata": {},
     "output_type": "execute_result"
    }
   ],
   "source": [
    "insuranceDummies_df = pd.get_dummies(insurance_df,drop_first=True)\n",
    "insuranceDummies_df.head()"
   ]
  },
  {
   "cell_type": "markdown",
   "metadata": {},
   "source": [
    "## Ordinal coding"
   ]
  },
  {
   "cell_type": "code",
   "execution_count": 13,
   "metadata": {},
   "outputs": [
    {
     "data": {
      "text/html": [
       "<div>\n",
       "<style scoped>\n",
       "    .dataframe tbody tr th:only-of-type {\n",
       "        vertical-align: middle;\n",
       "    }\n",
       "\n",
       "    .dataframe tbody tr th {\n",
       "        vertical-align: top;\n",
       "    }\n",
       "\n",
       "    .dataframe thead th {\n",
       "        text-align: right;\n",
       "    }\n",
       "</style>\n",
       "<table border=\"1\" class=\"dataframe\">\n",
       "  <thead>\n",
       "    <tr style=\"text-align: right;\">\n",
       "      <th></th>\n",
       "      <th>age</th>\n",
       "      <th>sex</th>\n",
       "      <th>bmi</th>\n",
       "      <th>children</th>\n",
       "      <th>smoker</th>\n",
       "      <th>region</th>\n",
       "      <th>charges</th>\n",
       "    </tr>\n",
       "  </thead>\n",
       "  <tbody>\n",
       "    <tr>\n",
       "      <th>0</th>\n",
       "      <td>19</td>\n",
       "      <td>0</td>\n",
       "      <td>27.900</td>\n",
       "      <td>0</td>\n",
       "      <td>1</td>\n",
       "      <td>0</td>\n",
       "      <td>16884.92400</td>\n",
       "    </tr>\n",
       "    <tr>\n",
       "      <th>1</th>\n",
       "      <td>18</td>\n",
       "      <td>1</td>\n",
       "      <td>33.770</td>\n",
       "      <td>1</td>\n",
       "      <td>0</td>\n",
       "      <td>1</td>\n",
       "      <td>1725.55230</td>\n",
       "    </tr>\n",
       "    <tr>\n",
       "      <th>2</th>\n",
       "      <td>28</td>\n",
       "      <td>1</td>\n",
       "      <td>33.000</td>\n",
       "      <td>3</td>\n",
       "      <td>0</td>\n",
       "      <td>1</td>\n",
       "      <td>4449.46200</td>\n",
       "    </tr>\n",
       "    <tr>\n",
       "      <th>3</th>\n",
       "      <td>33</td>\n",
       "      <td>1</td>\n",
       "      <td>22.705</td>\n",
       "      <td>0</td>\n",
       "      <td>0</td>\n",
       "      <td>3</td>\n",
       "      <td>21984.47061</td>\n",
       "    </tr>\n",
       "    <tr>\n",
       "      <th>4</th>\n",
       "      <td>32</td>\n",
       "      <td>1</td>\n",
       "      <td>28.880</td>\n",
       "      <td>0</td>\n",
       "      <td>0</td>\n",
       "      <td>3</td>\n",
       "      <td>3866.85520</td>\n",
       "    </tr>\n",
       "  </tbody>\n",
       "</table>\n",
       "</div>"
      ],
      "text/plain": [
       "   age  sex     bmi  children  smoker  region      charges\n",
       "0   19    0  27.900         0       1       0  16884.92400\n",
       "1   18    1  33.770         1       0       1   1725.55230\n",
       "2   28    1  33.000         3       0       1   4449.46200\n",
       "3   33    1  22.705         0       0       3  21984.47061\n",
       "4   32    1  28.880         0       0       3   3866.85520"
      ]
     },
     "execution_count": 13,
     "metadata": {},
     "output_type": "execute_result"
    }
   ],
   "source": [
    "insuranceOrd_df = insurance_df.copy()\n",
    "replaceSex = {'male':1,'female':0}\n",
    "replaceSmoke = {'no':0,'yes':1}\n",
    "replaceRegion = {'southwest':0, 'southeast':1, 'northeast':2, 'northwest':3}\n",
    "insuranceOrd_df['sex']= insuranceOrd_df['sex'].replace(replaceSex)\n",
    "insuranceOrd_df['smoker']= insuranceOrd_df['smoker'].replace(replaceSmoke)\n",
    "insuranceOrd_df['region']= insuranceOrd_df['region'].replace(replaceRegion)\n",
    "insuranceOrd_df.head()"
   ]
  },
  {
   "cell_type": "markdown",
   "metadata": {},
   "source": [
    "#### Preparation"
   ]
  },
  {
   "cell_type": "markdown",
   "metadata": {},
   "source": [
    "Generate X, y"
   ]
  },
  {
   "cell_type": "code",
   "execution_count": 20,
   "metadata": {},
   "outputs": [],
   "source": [
    "X = insuranceDummies_df.drop('charges',axis=1)\n",
    "y = insuranceDummies_df['charges']\n",
    "XOrd = insuranceOrd_df.drop('charges',axis=1)"
   ]
  },
  {
   "cell_type": "markdown",
   "metadata": {},
   "source": [
    "## Add yExtra as a new target\n",
    "\n",
    "This is designed to add some more complicated interactions in the data to make things more interesting.  Some of these boost the impact of regional data, and one is a \"dual interaction\" between sex and region.  The regional data does not impact the mean in a linear fashion.  Region 2 is less than region 0.  No reason why this might not be the case in real data.  This modification is just trying to crank up the impact of region as a predictor.\n"
   ]
  },
  {
   "cell_type": "code",
   "execution_count": 21,
   "metadata": {},
   "outputs": [],
   "source": [
    "yExtra = y + (XOrd['region']==0) * 1.*y.std() + ((XOrd['region']==2)) * -0.1*y.std() + (XOrd['sex']==1)*(XOrd['region']==3) * 3.*y.std()"
   ]
  },
  {
   "cell_type": "markdown",
   "metadata": {},
   "source": [
    "## Part 1: Run linear regression on original data\n",
    "\n",
    "Compare codings\n",
    "\n",
    "Run a stadard monte-carlo cross validation using a linear regression for (X,y) and (Xord,y).  Do this with 100 monte-carlo runs, and test size = 0.25.  Report the mean train_score and test_score in each case.  Do your results differ much?\n"
   ]
  },
  {
   "cell_type": "code",
   "execution_count": 18,
   "metadata": {},
   "outputs": [
    {
     "name": "stdout",
     "output_type": "stream",
     "text": [
      "0.7502133927697667\n",
      "0.7478013913048929\n"
     ]
    }
   ],
   "source": [
    "nmc = 100\n",
    "lr = LinearRegression()\n",
    "# Set up randomized cross validation\n",
    "shuffle = ShuffleSplit(n_splits=nmc, test_size=.25)\n",
    "CVInfo = cross_validate(lr, X, y, cv=shuffle,return_train_score=True)\n",
    "print(np.mean(CVInfo['train_score']))\n",
    "print(np.mean(CVInfo['test_score']))"
   ]
  },
  {
   "cell_type": "code",
   "execution_count": 23,
   "metadata": {},
   "outputs": [
    {
     "name": "stdout",
     "output_type": "stream",
     "text": [
      "0.7514628360603994\n",
      "0.7427005422826383\n"
     ]
    }
   ],
   "source": [
    "nmc = 100\n",
    "lr = LinearRegression()\n",
    "# Set up randomized cross validation\n",
    "shuffle = ShuffleSplit(n_splits=nmc, test_size=.25)\n",
    "CVInfo = cross_validate(lr, XOrd, y, cv=shuffle,return_train_score=True)\n",
    "print(np.mean(CVInfo['train_score']))\n",
    "print(np.mean(CVInfo['test_score']))"
   ]
  },
  {
   "cell_type": "markdown",
   "metadata": {},
   "source": [
    "## Part 2: Run linear regression on new data\n",
    "\n",
    "Repeat the previous monte-carlo cross validation with a linear regression, but use the yExtra target.  In other words, run on (X,yExtra) and (Xord, yExtra).  "
   ]
  },
  {
   "cell_type": "code",
   "execution_count": 24,
   "metadata": {},
   "outputs": [
    {
     "name": "stdout",
     "output_type": "stream",
     "text": [
      "0.6500155815911798\n",
      "0.6412143330955\n"
     ]
    }
   ],
   "source": [
    "nmc = 100\n",
    "lr = LinearRegression()\n",
    "# Set up randomized cross validation\n",
    "shuffle = ShuffleSplit(n_splits=nmc, test_size=.25)\n",
    "CVInfo = cross_validate(lr, X, yExtra, cv=shuffle,return_train_score=True)\n",
    "print(np.mean(CVInfo['train_score']))\n",
    "print(np.mean(CVInfo['test_score']))"
   ]
  },
  {
   "cell_type": "code",
   "execution_count": 25,
   "metadata": {},
   "outputs": [
    {
     "name": "stdout",
     "output_type": "stream",
     "text": [
      "0.649836154459436\n",
      "0.6418158644681177\n"
     ]
    }
   ],
   "source": [
    "nmc = 100\n",
    "lr = LinearRegression()\n",
    "# Set up randomized cross validation\n",
    "shuffle = ShuffleSplit(n_splits=nmc, test_size=.25)\n",
    "CVInfo = cross_validate(lr, X, yExtra, cv=shuffle,return_train_score=True)\n",
    "print(np.mean(CVInfo['train_score']))\n",
    "print(np.mean(CVInfo['test_score']))"
   ]
  },
  {
   "cell_type": "markdown",
   "metadata": {},
   "source": [
    "## Part 3: Ridge\n",
    "\n",
    "Now explore cross validation with a Ridge regression on the (XOrd,yExta) pair. \n",
    "\n",
    "Set up a pipeline with the MinMaxScaler() and Ridge.  Run a GridSearchCV() using the following range for alpha.\n",
    "\n",
    "[0.0001,0.001,0.01,0.05,0.1,0.25,0.5,1, 2]\n",
    "\n",
    "Monte-carlo number is still 100, and testSize should be 0.25 as before.\n",
    "\n",
    "Report our usual nice table across the values of alpha?  Any hope for Ridge fixing some of the problems of the ordinal coding?\n"
   ]
  },
  {
   "cell_type": "code",
   "execution_count": 47,
   "metadata": {},
   "outputs": [
    {
     "name": "stdout",
     "output_type": "stream",
     "text": [
      "   rank_test_score  mean_test_score param_Ridge__alpha\n",
      "0                9         0.427705             0.0001\n",
      "1                8         0.427705              0.001\n",
      "2                7         0.427706               0.01\n",
      "3                6         0.427710               0.05\n",
      "4                5         0.427715                0.1\n",
      "5                4         0.427730               0.25\n",
      "6                3         0.427753                0.5\n",
      "7                2         0.427789                  1\n",
      "8                1         0.427825                  2\n"
     ]
    }
   ],
   "source": [
    "fullModel = Pipeline([\n",
    "    (\"scaler\",  MinMaxScaler()),\n",
    "    (\"Ridge\", Ridge())\n",
    "])\n",
    "param_grid={'Ridge__alpha':[0.0001,0.001,0.01,0.05,0.1,0.25,0.5,1, 2]}\n",
    "shuffle_split = ShuffleSplit(test_size=0.25, n_splits=100)\n",
    "\n",
    "# set up search\n",
    "grid_search=GridSearchCV(fullModel,param_grid,cv=shuffle_split, \n",
    "                              return_train_score=True)\n",
    "# implement search\n",
    "grid_search.fit(XOrd,yExtra)\n",
    "# move results into DataFrame\n",
    "results = pd.DataFrame(grid_search.cv_results_)\n",
    "print(results[['rank_test_score','mean_test_score','param_Ridge__alpha']])"
   ]
  },
  {
   "cell_type": "code",
   "execution_count": 48,
   "metadata": {},
   "outputs": [
    {
     "name": "stdout",
     "output_type": "stream",
     "text": [
      "best param: {'Ridge__alpha': 2}\n",
      "best model: Pipeline(steps=[('scaler', MinMaxScaler()), ('Ridge', Ridge(alpha=2))])\n",
      "best test score: 0.4278254589204915\n"
     ]
    }
   ],
   "source": [
    "# Print best params and model\n",
    "print(\"best param:\",grid_search.best_params_)\n",
    "print(\"best model:\",grid_search.best_estimator_)\n",
    "print(\"best test score:\",grid_search.best_score_)"
   ]
  },
  {
   "cell_type": "markdown",
   "metadata": {},
   "source": [
    "The best test score for Ridge is almost the same as that of Linear Regression. I do not think there is hope for Ridge fixing some of the problems of the ordinal coding."
   ]
  },
  {
   "cell_type": "markdown",
   "metadata": {},
   "source": [
    "## Part 4: Kernel Ridge\n",
    "\n",
    "Repeat the previous problem, but now use KernelRidge() again with (XOrd,yExtra)\n",
    "\n",
    "Perform a GridSearchCV() using the following ranges,\n",
    "\n",
    "alpha:\n",
    "[0.0001,0.001,0.01,0.05,0.1,0.25,0.5]\n",
    "\n",
    "gamma:\n",
    "[0.01,0.05,0.25,0.5,1.]\n",
    "\n",
    "Set the kernel to \"rbf\".\n",
    "\n",
    "Again, number of monte-carlo's should be 100, and testSize as 0.25.  Again report a nice table across all the points in the grid.  Any improvements in your results?"
   ]
  },
  {
   "cell_type": "code",
   "execution_count": 50,
   "metadata": {},
   "outputs": [
    {
     "name": "stdout",
     "output_type": "stream",
     "text": [
      "    rank_test_score  mean_test_score param_kridge__alpha param_kridge__gamma\n",
      "0                23         0.838257              0.0001                0.01\n",
      "1                10         0.899150              0.0001                0.05\n",
      "2                 4         0.905969              0.0001                0.25\n",
      "3                15         0.888367              0.0001                 0.5\n",
      "4                22         0.848630              0.0001                 1.0\n",
      "5                26         0.801492               0.001                0.01\n",
      "6                18         0.885575               0.001                0.05\n",
      "7                 2         0.907773               0.001                0.25\n",
      "8                 6         0.905202               0.001                 0.5\n",
      "9                14         0.888780               0.001                 1.0\n",
      "10               29         0.626587                0.01                0.01\n",
      "11               24         0.833923                0.01                0.05\n",
      "12                9         0.900097                0.01                0.25\n",
      "13                1         0.907850                0.01                 0.5\n",
      "14                5         0.905219                0.01                 1.0\n",
      "15               32         0.500877                0.05                0.01\n",
      "16               27         0.763219                0.05                0.05\n",
      "17               13         0.891181                0.05                0.25\n",
      "18                8         0.900888                0.05                 0.5\n",
      "19                3         0.907146                0.05                 1.0\n",
      "20               33         0.468940                 0.1                0.01\n",
      "21               28         0.705048                 0.1                0.05\n",
      "22               19         0.879719                 0.1                0.25\n",
      "23               12         0.896769                 0.1                 0.5\n",
      "24                7         0.904576                 0.1                 1.0\n",
      "25               34         0.443817                0.25                0.01\n",
      "26               30         0.616951                0.25                0.05\n",
      "27               21         0.849917                0.25                0.25\n",
      "28               17         0.887260                0.25                 0.5\n",
      "29               11         0.897175                0.25                 1.0\n",
      "30               35         0.429299                 0.5                0.01\n",
      "31               31         0.554803                 0.5                0.05\n",
      "32               25         0.812445                 0.5                0.25\n",
      "33               20         0.871038                 0.5                 0.5\n",
      "34               16         0.887471                 0.5                 1.0\n"
     ]
    }
   ],
   "source": [
    "from sklearn.kernel_ridge import KernelRidge\n",
    "nlreg = KernelRidge(kernel='rbf')\n",
    "fullModel = Pipeline([\n",
    "    (\"scaler\", MinMaxScaler()),\n",
    "    (\"kridge\", nlreg)\n",
    "])\n",
    "\n",
    "# set up dictionary for grid search\n",
    "param_grid={'kridge__alpha':[0.0001,0.001,0.01,0.05,0.1,0.25,0.5],'kridge__gamma':[0.01,0.05,0.25,0.5,1.],'kridge__kernel':['rbf']}\n",
    "# set up cross-validation shuffles\n",
    "shuffle_split = ShuffleSplit(test_size=0.25, n_splits=100)\n",
    "# set up search\n",
    "grid_search=GridSearchCV(fullModel,param_grid,cv=shuffle_split, \n",
    "                              return_train_score=True,n_jobs=1)\n",
    "# implement search\n",
    "grid_search.fit(XOrd,yExtra)\n",
    "# move results into DataFrame\n",
    "results = pd.DataFrame(grid_search.cv_results_)\n",
    "print(results[['rank_test_score','mean_test_score','param_kridge__alpha','param_kridge__gamma']])"
   ]
  },
  {
   "cell_type": "code",
   "execution_count": 51,
   "metadata": {},
   "outputs": [
    {
     "name": "stdout",
     "output_type": "stream",
     "text": [
      "best param: {'kridge__alpha': 0.01, 'kridge__gamma': 0.5, 'kridge__kernel': 'rbf'}\n",
      "best model: Pipeline(steps=[('scaler', MinMaxScaler()),\n",
      "                ('kridge', KernelRidge(alpha=0.01, gamma=0.5, kernel='rbf'))])\n",
      "best test score: 0.9078498137028015\n"
     ]
    }
   ],
   "source": [
    "# Print best params and model\n",
    "print(\"best param:\",grid_search.best_params_)\n",
    "print(\"best model:\",grid_search.best_estimator_)\n",
    "print(\"best test score:\",grid_search.best_score_)"
   ]
  },
  {
   "cell_type": "markdown",
   "metadata": {},
   "source": [
    "Using KernelRidge() with XOrd,yExtra, there is a huge improvement from Linear and Ridge Regression."
   ]
  },
  {
   "cell_type": "markdown",
   "metadata": {},
   "source": [
    "## Part 5: Regression Tree\n",
    "\n",
    "Now repeat your GridSearchCV() for a regression tree model.  Sweep across maximimum tree depths of 1-10.\n",
    "\n",
    "Data for this part should be (X,yExtra).\n",
    "\n",
    "Same parameters for the monte-carlo cross validation part of the grid search.\n",
    "\n",
    "Print out the usual nice table across the tree depths.  Add mean_train_score to the table this time.\n"
   ]
  },
  {
   "cell_type": "code",
   "execution_count": 52,
   "metadata": {},
   "outputs": [
    {
     "name": "stdout",
     "output_type": "stream",
     "text": [
      "   rank_test_score  mean_test_score  mean_train_score param_max_depth\n",
      "0               10         0.290726          0.295163               1\n",
      "1                9         0.467614          0.476967               2\n",
      "2                8         0.802881          0.810755               3\n",
      "3                3         0.903047          0.910493               4\n",
      "4                1         0.913380          0.932337               5\n",
      "5                2         0.909599          0.946315               6\n",
      "6                4         0.895122          0.958352               7\n",
      "7                5         0.880313          0.970658               8\n",
      "8                6         0.870558          0.980319               9\n",
      "9                7         0.861790          0.987429              10\n",
      "best param: {'max_depth': 5}\n",
      "best model: DecisionTreeRegressor(max_depth=5)\n",
      "best test score: 0.9133804536435827\n"
     ]
    }
   ],
   "source": [
    "from sklearn.tree import DecisionTreeRegressor\n",
    "dtr = DecisionTreeRegressor()\n",
    "param_grid={'max_depth':range(1,11)}\n",
    "# set up cross-validation shuffles\n",
    "shuffle_split = ShuffleSplit(test_size=0.25, n_splits=100)\n",
    "# set up search\n",
    "grid_search=GridSearchCV(dtr,param_grid,cv=shuffle_split, \n",
    "                              return_train_score=True)\n",
    "# implement search\n",
    "grid_search.fit(X,yExtra)\n",
    "# move results into DataFrame\n",
    "results = pd.DataFrame(grid_search.cv_results_)\n",
    "print(results[['rank_test_score','mean_test_score','mean_train_score','param_max_depth']])\n",
    "\n",
    "# Print best params and model\n",
    "print(\"best param:\",grid_search.best_params_)\n",
    "print(\"best model:\",grid_search.best_estimator_)\n",
    "print(\"best test score:\",grid_search.best_score_)\n"
   ]
  },
  {
   "cell_type": "markdown",
   "metadata": {},
   "source": [
    "## Part 6: Now rerun tree with ordinal codes\n",
    "\n",
    "Rerun exactly part 5, but use (XOrd,yExtra).  Is there much different from part 5?\n"
   ]
  },
  {
   "cell_type": "code",
   "execution_count": 53,
   "metadata": {},
   "outputs": [
    {
     "name": "stdout",
     "output_type": "stream",
     "text": [
      "   rank_test_score  mean_test_score  mean_train_score param_max_depth\n",
      "0               10         0.291889          0.294439               1\n",
      "1                9         0.468518          0.476640               2\n",
      "2                8         0.802688          0.811142               3\n",
      "3                3         0.903427          0.910834               4\n",
      "4                1         0.913152          0.932145               5\n",
      "5                2         0.910184          0.945818               6\n",
      "6                4         0.895301          0.957980               7\n",
      "7                5         0.881410          0.970556               8\n",
      "8                6         0.871820          0.980088               9\n",
      "9                7         0.863249          0.987309              10\n",
      "best param: {'max_depth': 5}\n",
      "best model: DecisionTreeRegressor(max_depth=5)\n",
      "best test score: 0.9131521734131822\n"
     ]
    }
   ],
   "source": [
    "dtr = DecisionTreeRegressor()\n",
    "param_grid={'max_depth':range(1,11)}\n",
    "# set up cross-validation shuffles\n",
    "shuffle_split = ShuffleSplit(test_size=0.25, n_splits=100)\n",
    "# set up search\n",
    "grid_search=GridSearchCV(dtr,param_grid,cv=shuffle_split, \n",
    "                              return_train_score=True)\n",
    "# implement search\n",
    "grid_search.fit(XOrd,yExtra)\n",
    "# move results into DataFrame\n",
    "results = pd.DataFrame(grid_search.cv_results_)\n",
    "print(results[['rank_test_score','mean_test_score','mean_train_score','param_max_depth']])\n",
    "\n",
    "# Print best params and model\n",
    "print(\"best param:\",grid_search.best_params_)\n",
    "print(\"best model:\",grid_search.best_estimator_)\n",
    "print(\"best test score:\",grid_search.best_score_)"
   ]
  },
  {
   "cell_type": "markdown",
   "metadata": {},
   "source": [
    "As one advantage of decision tree model,optimal feature is selected to split the data and non-informative features will not be selected,there is no big diffrence between using X and XOrd."
   ]
  },
  {
   "cell_type": "markdown",
   "metadata": {},
   "source": [
    "## Part 7:Insert interaction term for regression\n",
    "\n",
    "Add the following feature to your set of features.  This is known as an interaction term, and can help the linear models better target males living in the northwest.\n",
    "\n",
    "Repeat the monte-carlo cross validations from part (1), but now use (X,yExtra), (XOrd,yExtra), and (Xinteract,yExtra) so that you can compare all three of these.\n"
   ]
  },
  {
   "cell_type": "code",
   "execution_count": 42,
   "metadata": {},
   "outputs": [],
   "source": [
    "Xinteract = X.copy()\n",
    "Xinteract['interact'] = X['region_northwest']*X['sex_male']\n",
    "#X now only contain data of male who from northwest since northwest and male are represent by dummy variable 1"
   ]
  },
  {
   "cell_type": "code",
   "execution_count": 43,
   "metadata": {},
   "outputs": [
    {
     "name": "stdout",
     "output_type": "stream",
     "text": [
      "0.6506045432869422\n",
      "0.6382463655217608\n"
     ]
    }
   ],
   "source": [
    "nmc = 100\n",
    "lr = LinearRegression()\n",
    "# Set up randomized cross validation\n",
    "shuffle = ShuffleSplit(n_splits=nmc, test_size=.25)\n",
    "CVInfo = cross_validate(lr, X,yExtra, cv=shuffle,return_train_score=True)\n",
    "print(np.mean(CVInfo['train_score']))\n",
    "print(np.mean(CVInfo['test_score']))"
   ]
  },
  {
   "cell_type": "code",
   "execution_count": 44,
   "metadata": {},
   "outputs": [
    {
     "name": "stdout",
     "output_type": "stream",
     "text": [
      "0.4383432029593111\n",
      "0.4188190735387724\n"
     ]
    }
   ],
   "source": [
    "nmc = 100\n",
    "lr = LinearRegression()\n",
    "# Set up randomized cross validation\n",
    "shuffle = ShuffleSplit(n_splits=nmc, test_size=.25)\n",
    "CVInfo = cross_validate(lr, XOrd,yExtra, cv=shuffle,return_train_score=True)\n",
    "print(np.mean(CVInfo['train_score']))\n",
    "print(np.mean(CVInfo['test_score']))"
   ]
  },
  {
   "cell_type": "code",
   "execution_count": 45,
   "metadata": {},
   "outputs": [
    {
     "name": "stdout",
     "output_type": "stream",
     "text": [
      "0.86931575054181\n",
      "0.8652525631412906\n"
     ]
    }
   ],
   "source": [
    "nmc = 100\n",
    "lr = LinearRegression()\n",
    "# Set up randomized cross validation\n",
    "shuffle = ShuffleSplit(n_splits=nmc, test_size=.25)\n",
    "CVInfo = cross_validate(lr, Xinteract,yExtra, cv=shuffle,return_train_score=True)\n",
    "print(np.mean(CVInfo['train_score']))\n",
    "print(np.mean(CVInfo['test_score']))"
   ]
  },
  {
   "cell_type": "markdown",
   "metadata": {},
   "source": [
    "## Part 8: Compare different models\n",
    "\n",
    "How did the the (Xinteract,yExtra) regression do relative to the tree, and the Kernel Ridge?\n",
    "\n",
    "Is it still the best of the linear models?  \n",
    "\n",
    "Could their be more structure in the data, than what we added in the yExtra creation?"
   ]
  },
  {
   "cell_type": "markdown",
   "metadata": {},
   "source": [
    "(Xinteract,yExtra) regression results in train score:0.8693 and test score:0.8652\n",
    " The tree model using X,yExtra and depth 5 results in highest test score:0.9134 \n",
    " The tree model using XOrd,yExtra and depth 5 results in highest test score:0.9131\n",
    " The Kernel Ridge model using XOrd,yExtra results in highest test score: 0.9078\n",
    " \n",
    " (Xinteract,yExtra) regression did not outperform the tree and Kernel Ridge given the result above, but it results in highest tain and test score compared with linear models that use XOrd,yExtra and X,yExtra.\n",
    "\n",
    "I do not think there could be more structure in the data than when we added in the yExtra creation for the (Xinteract, yExtra) pair. I think that Linear Regression performance increase for the (Xinteract, yExtra) pair because the interaction term in Xinteract is the same interaction term used in the creation of yExtra."
   ]
  },
  {
   "cell_type": "code",
   "execution_count": null,
   "metadata": {},
   "outputs": [],
   "source": []
  }
 ],
 "metadata": {
  "kernelspec": {
   "display_name": "Python 3 (ipykernel)",
   "language": "python",
   "name": "python3"
  },
  "language_info": {
   "codemirror_mode": {
    "name": "ipython",
    "version": 3
   },
   "file_extension": ".py",
   "mimetype": "text/x-python",
   "name": "python",
   "nbconvert_exporter": "python",
   "pygments_lexer": "ipython3",
   "version": "3.8.8"
  }
 },
 "nbformat": 4,
 "nbformat_minor": 4
}
